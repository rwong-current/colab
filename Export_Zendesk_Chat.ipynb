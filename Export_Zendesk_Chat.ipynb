{
  "nbformat": 4,
  "nbformat_minor": 0,
  "metadata": {
    "colab": {
      "provenance": [],
      "authorship_tag": "ABX9TyP7dyDksHmhR/8x26LZkWEf",
      "include_colab_link": true
    },
    "kernelspec": {
      "name": "python3",
      "display_name": "Python 3"
    },
    "language_info": {
      "name": "python"
    }
  },
  "cells": [
    {
      "cell_type": "markdown",
      "metadata": {
        "id": "view-in-github",
        "colab_type": "text"
      },
      "source": [
        "<a href=\"https://colab.research.google.com/github/rwong-current/colab/blob/main/Export_Zendesk_Chat.ipynb\" target=\"_parent\"><img src=\"https://colab.research.google.com/assets/colab-badge.svg\" alt=\"Open In Colab\"/></a>"
      ]
    },
    {
      "cell_type": "code",
      "source": [
        "%load_ext autoreload\n",
        "%autoreload 2"
      ],
      "metadata": {
        "id": "P2ykceCloXIe"
      },
      "execution_count": 2,
      "outputs": []
    },
    {
      "cell_type": "code",
      "source": [
        "import numpy as np\n",
        "import pandas as pd\n",
        "import matplotlib.pyplot as plt\n",
        "import seaborn as sns\n",
        "\n",
        "from datetime import datetime, timedelta, date\n",
        "import requests\n",
        "import json\n",
        "\n",
        "from google.colab import drive\n",
        "drive.mount('/content/drive')\n",
        "\n",
        "basedir = '/content/drive/My Drive/Colab Notebooks/'\n",
        "wkdir = '/content/drive/My Drive/Colab Notebooks/'\n",
        "datadir = '/content/drive/My Drive/Colab Notebooks/data/'\n",
        "\n",
        "pd.options.display.max_columns = None\n",
        "pd.options.display.float_format = '{:,.2f}'.format"
      ],
      "metadata": {
        "colab": {
          "base_uri": "https://localhost:8080/"
        },
        "id": "cHOblm6ToWuz",
        "outputId": "fd9c63ae-fd29-4b48-cce6-53457f034748"
      },
      "execution_count": 3,
      "outputs": [
        {
          "output_type": "stream",
          "name": "stdout",
          "text": [
            "Mounted at /content/drive\n"
          ]
        }
      ]
    },
    {
      "cell_type": "code",
      "source": [
        "# load helper functions\n",
        "utils = basedir.replace(' ','\\ ') + 'utils/'\n",
        "# %run -i {utils}zendesk.ipynb\n",
        "# %run -i {utils}pdf.ipynb\n",
        "%run -i {utils}colab.ipynb\n",
        "\n",
        "get_ipython().events.register('pre_run_cell', resize_colab_cell)"
      ],
      "metadata": {
        "id": "eue1z_BcoWsI"
      },
      "execution_count": 4,
      "outputs": []
    },
    {
      "cell_type": "code",
      "source": [],
      "metadata": {
        "id": "Pyq8Iux8bTkY"
      },
      "execution_count": null,
      "outputs": []
    },
    {
      "cell_type": "code",
      "source": [],
      "metadata": {
        "id": "jlBlb0mvcByf"
      },
      "execution_count": null,
      "outputs": []
    },
    {
      "cell_type": "code",
      "source": [
        "base_get_request = \"https://current.zendesk.com/api/v2/\"\n",
        "username = 'ryan.wong@current.com'\n",
        "token = 'KDBftsLgOjyCB7vefyfq4X0i6M5lWKC9FnUwmrYy'"
      ],
      "metadata": {
        "id": "_kpSV8K-4CGy",
        "colab": {
          "base_uri": "https://localhost:8080/",
          "height": 17
        },
        "outputId": "4696929a-326e-4169-ce5f-6ec01c02c780"
      },
      "execution_count": 5,
      "outputs": [
        {
          "output_type": "display_data",
          "data": {
            "text/plain": [
              "<IPython.core.display.Javascript object>"
            ],
            "application/javascript": [
              "google.colab.output.setIframeHeight(0, true, {maxHeight: 500})"
            ]
          },
          "metadata": {}
        }
      ]
    },
    {
      "cell_type": "code",
      "source": [],
      "metadata": {
        "id": "Bj9l7XKn4E65"
      },
      "execution_count": null,
      "outputs": []
    },
    {
      "cell_type": "code",
      "source": [
        "url = \"https://current.zendesk.com/api/v2/tickets/11230128/audits\"\n",
        "headers = {\n",
        "\t\"Content-Type\": \"application/json\",\n",
        "}\n",
        "\n",
        "response = requests.request(\n",
        "\t\"GET\",\n",
        "\turl,\n",
        "\tauth=(username+'/token', token),\n",
        "\theaders=headers\n",
        ")\n",
        "\n",
        "print(response.text)"
      ],
      "metadata": {
        "colab": {
          "base_uri": "https://localhost:8080/",
          "height": 54
        },
        "id": "3gWp1dbT4xb2",
        "outputId": "e6a961f0-1d16-426d-e96d-c3b6e4d8f3be"
      },
      "execution_count": 6,
      "outputs": [
        {
          "output_type": "display_data",
          "data": {
            "text/plain": [
              "<IPython.core.display.Javascript object>"
            ],
            "application/javascript": [
              "google.colab.output.setIframeHeight(0, true, {maxHeight: 500})"
            ]
          },
          "metadata": {}
        },
        {
          "output_type": "stream",
          "name": "stdout",
          "text": [
            "{\"audits\":[{\"id\":26446589233307,\"ticket_id\":11230128,\"created_at\":\"2024-06-09T22:30:54Z\",\"author_id\":24640724660123,\"metadata\":{\"system\":{\"client\":\"Mozilla/5.0 (iPhone; CPU iPhone OS 17_5_1 like Mac OS X) AppleWebKit/605.1.15 (KHTML, like Gecko) Version/17.5 Mobile/15E148 Safari/604.1\",\"ip_address\":\"66.229.140.73\",\"location\":\"Fort Lauderdale, FL, United States\",\"latitude\":26.1792,\"longitude\":-80.1749},\"custom\":{},\"flags\":[3],\"flags_options\":{\"3\":{\"trusted\":false}},\"trusted\":false},\"events\":[{\"id\":26446589233435,\"type\":\"Comment\",\"author_id\":24640724660123,\"body\":\"I gathered police report from my previous and only dispute which by current I lost it.\",\"html_body\":\"<div class=\\\"zd-comment\\\" dir=\\\"auto\\\">I gathered police report from my previous and only dispute which by current I lost it.</div>\",\"plain_body\":\"I gathered police report from my previous and only dispute which by current I lost it.\",\"public\":true,\"attachments\":[{\"url\":\"https://current.zendesk.com/api/v2/attachments/26446632847643.json\",\"id\":26446632847643,\"file_name\":\"IdentityTheft.pdf\",\"content_url\":\"https://current.zendesk.com/attachments/token/OdGDEziRLZ76aftmh3JZ3WoIY/?name=IdentityTheft.pdf\",\"mapped_content_url\":\"https://support.current.com/attachments/token/OdGDEziRLZ76aftmh3JZ3WoIY/?name=IdentityTheft.pdf\",\"content_type\":\"application/pdf\",\"size\":1684724,\"width\":null,\"height\":null,\"inline\":false,\"deleted\":false,\"malware_access_override\":false,\"malware_scan_result\":\"malware_not_found\",\"thumbnails\":[]}],\"audit_id\":26446589233307},{\"id\":26446589233563,\"type\":\"Create\",\"value\":\"24640724660123\",\"field_name\":\"requester_id\"},{\"id\":26446589233691,\"type\":\"Create\",\"value\":\"656407\",\"field_name\":\"brand_id\"},{\"id\":26446589233819,\"type\":\"Create\",\"value\":\"208507\",\"field_name\":\"ticket_form_id\"},{\"id\":26446589233947,\"type\":\"Create\",\"value\":[\"claim\"],\"field_name\":\"tags\"},{\"id\":26446589234075,\"type\":\"Create\",\"value\":\"claim\",\"field_name\":\"360009607114\"},{\"id\":26446589234203,\"type\":\"Create\",\"value\":null,\"field_name\":\"priority\"},{\"id\":26446589234331,\"type\":\"Create\",\"value\":null,\"field_name\":\"type\"},{\"id\":26446589234459,\"type\":\"Create\",\"value\":\"new\",\"field_name\":\"status\"},{\"id\":26446589234587,\"type\":\"Notification\",\"via\":{\"channel\":\"rule\",\"source\":{\"from\":{\"deleted\":false,\"title\":\"Notify requester of received request\",\"id\":67433247,\"revision_id\":34},\"rel\":\"trigger\"}},\"subject\":\"[Request received] {{ticket.id}}\",\"body\":\"Hi {{ticket.requester.first_name}}\\n\\nThanks for reaching out to Current Support. We've received your request and a team member will be responding to you shortly. We typically respond to emails in under 24 hours, but if you need faster help we have Live Chat available 24/7 within the app.\\n\\nWe'll be in touch as soon as possible. If you need to add additional comments to your request, please reply here. You can also check out our FAQs for common questions or concerns available <a href=\\\"https://support.current.com\\\">here</a>.\\n\\nThank you,\\nCurrent Support\",\"recipients\":[24640724660123]},{\"id\":26446589234715,\"type\":\"Change\",\"via\":{\"channel\":\"rule\",\"source\":{\"from\":{\"deleted\":false,\"title\":\"Default Priority\",\"id\":6310660607643,\"revision_id\":1},\"rel\":\"trigger\"}},\"value\":\"normal\",\"field_name\":\"priority\",\"previous_value\":null},{\"id\":26446589234843,\"type\":\"Change\",\"via\":{\"channel\":\"rule\",\"source\":{\"from\":{\"deleted\":false,\"title\":\"Web Form submission\",\"id\":19893391540763,\"revision_id\":2},\"rel\":\"trigger\"}},\"value\":\"27458867\",\"field_name\":\"group_id\",\"previous_value\":null},{\"id\":26446589234971,\"type\":\"Change\",\"via\":{\"channel\":\"rule\",\"source\":{\"from\":{\"deleted\":false,\"title\":\"Email sourcing: Web Form\",\"id\":1260871038449,\"revision_id\":1},\"rel\":\"trigger\"}},\"value\":[\"claim\",\"es_web_form\"],\"field_name\":\"tags\",\"previous_value\":[\"claim\"]},{\"id\":26446589235099,\"type\":\"Change\",\"via\":{\"channel\":\"rule\",\"source\":{\"from\":{\"deleted\":false,\"title\":\"Email sourcing: Web Form\",\"id\":1260871038449,\"revision_id\":1},\"rel\":\"trigger\"}},\"value\":\"es_web_form\",\"field_name\":\"4417248920731\",\"previous_value\":null},{\"id\":26446589235611,\"type\":\"Create\",\"value\":\"General Email\",\"field_name\":\"sla_policy\"}],\"via\":{\"channel\":\"web\",\"source\":{\"from\":{},\"to\":{},\"rel\":null}}},{\"id\":26446617220507,\"ticket_id\":11230128,\"created_at\":\"2024-06-09T22:30:54Z\",\"author_id\":-1,\"metadata\":{\"system\":{},\"custom\":{},\"parent_audit_id\":\"26446589233307\"},\"events\":[{\"id\":26446617220635,\"type\":\"Change\",\"previous_value\":null,\"value\":{\"minutes\":1440,\"seconds\":86400,\"in_business_hours\":false},\"field_name\":\"first_reply_time\",\"via\":{\"source\":{\"rel\":\"sla_target_change\"},\"current_sla_policy\":\"General Email\"}}],\"via\":{\"channel\":\"sla\",\"source\":{\"from\":{},\"to\":{},\"rel\":null}}},{\"id\":26446605287067,\"ticket_id\":11230128,\"created_at\":\"2024-06-09T22:30:56Z\",\"author_id\":-1,\"metadata\":{\"system\":{},\"custom\":{}},\"events\":[{\"id\":26446605287195,\"type\":\"Change\",\"value\":[\"claim\",\"es_web_form\",\"intent__software__data_lost__data_is_missing\",\"intent_confidence__medium\",\"sentiment__neutral\",\"sentiment_confidence__high\"],\"field_name\":\"tags\",\"previous_value\":[\"claim\",\"es_web_form\"]},{\"id\":26446605287323,\"type\":\"Change\",\"value\":\"intent__software__data_lost__data_is_missing\",\"field_name\":\"24234731238811\",\"previous_value\":null},{\"id\":26446605287451,\"type\":\"Change\",\"value\":\"intent_confidence__medium\",\"field_name\":\"24234731253531\",\"previous_value\":null},{\"id\":26446605287579,\"type\":\"Change\",\"value\":\"sentiment__neutral\",\"field_name\":\"24234700067611\",\"previous_value\":null},{\"id\":26446605287707,\"type\":\"Change\",\"value\":\"sentiment_confidence__high\",\"field_name\":\"24234700077083\",\"previous_value\":null}],\"via\":{\"channel\":\"web\",\"source\":{\"from\":{},\"to\":{},\"rel\":null}}},{\"id\":26446650127387,\"ticket_id\":11230128,\"created_at\":\"2024-06-09T22:33:03Z\",\"author_id\":1902986750104,\"metadata\":{\"system\":{\"client\":\"AHC/2.1\",\"ip_address\":\"52.11.110.143\",\"location\":\"Boardman, OR, United States\",\"latitude\":45.8234,\"longitude\":-119.7257},\"custom\":{}},\"events\":[{\"id\":26446650127515,\"type\":\"Change\",\"value\":[\"claim\",\"es_web_form\",\"intent__software__data_lost__data_is_missing\",\"intent_confidence__medium\",\"sentiment__neutral\",\"sentiment_confidence__high\",\"unitq-100188\",\"unitq-162\",\"unitq-165\",\"unitq-29\"],\"field_name\":\"tags\",\"previous_value\":[\"claim\",\"es_web_form\",\"intent__software__data_lost__data_is_missing\",\"intent_confidence__medium\",\"sentiment__neutral\",\"sentiment_confidence__high\"]},{\"id\":26446650127643,\"type\":\"Change\",\"value\":\"unitq-29\",\"field_name\":\"14520140362907\",\"previous_value\":null},{\"id\":26446650127771,\"type\":\"Change\",\"via\":{\"channel\":\"rule\",\"source\":{\"from\":{\"deleted\":false,\"title\":\"unitQ tagged\",\"id\":16368836462363,\"revision_id\":1},\"rel\":\"trigger\"}},\"value\":\"1\",\"field_name\":\"16368795396123\",\"previous_value\":null}],\"via\":{\"channel\":\"api\",\"source\":{\"from\":{},\"to\":{},\"rel\":null}}},{\"id\":26453627144603,\"ticket_id\":11230128,\"created_at\":\"2024-06-10T11:49:21Z\",\"author_id\":1264993065390,\"metadata\":{\"system\":{\"client\":\"Mozilla/5.0 (Windows NT 10.0; Win64; x64) AppleWebKit/537.36 (KHTML, like Gecko) Chrome/125.0.0.0 Safari/537.36\",\"ip_address\":\"43.230.109.76\",\"location\":\"Makati City, 00, Philippines\",\"latitude\":14.566,\"longitude\":121.0193},\"custom\":{}},\"events\":[{\"id\":26453627144731,\"type\":\"Comment\",\"author_id\":1264993065390,\"body\":\"Hi Caller,\\n\\nThank you for contacting us about this.\\n\\nWe looked into this for you and we confirmed that your recent dispute claim resulted in no error found.\\n\\nIf you have evidence to support your claim that you did not previously provide, you may submit it for consideration. If we determine that it may support your claim, we will open an appeal. Please make sure as well that the document that you'll be providing is related to the claim that you have.\\n\\nExamples of documents or written communication that can help support your claim are:\\n\\n\\n- Police reports _(full report is highly preferred however case numbers WITH precinct contact information is acceptable)_\\n- Incarceration Records _(full release discharge paperwork with dates of incarceration and release provided)_\\n- Hospitalization Records _(full release discharge paperwork with dates of intake and release provided)_\\n- Evidence of returned merchandise or Non-receipt of goods\\n- Email communication/confirmation with merchant\\n- Receipts\\n\\nWe look forward to your response.\\n\\nBest,\\nJohn D.\",\"html_body\":\"<div class=\\\"zd-comment\\\" dir=\\\"auto\\\">Hi Caller,<br>&nbsp;<br>Thank you for contacting us about this.<br>&nbsp;<br>We looked into this for you and we confirmed that your recent dispute claim resulted in no error found.&nbsp;<br>&nbsp;<br>If you have&nbsp;evidence to support your claim that you did not previously provide, you may submit it for consideration. If we determine that it may support your claim, we will open an appeal. Please make sure as well that the document that you'll be providing is related to the claim that you have.&nbsp;<br>&nbsp;<br>Examples of documents or written communication that can help support your claim are:<br>&nbsp;<br><ul dir=\\\"auto\\\"><li>Police reports <i>(full report is highly preferred however case numbers WITH precinct contact information is acceptable)</i></li><li>Incarceration Records <i>(full release discharge paperwork with dates of incarceration and release provided)</i></li><li>Hospitalization Records <i>(full release discharge paperwork with dates of intake and release provided)</i></li><li>Evidence of returned merchandise or Non-receipt of goods</li><li>Email communication/confirmation with merchant</li><li>Receipts</li></ul>&nbsp;<br>We look forward to your response.<br>&nbsp;<br>Best,<br>John D.<br></div>\",\"plain_body\":\"Hi Caller,\\n&nbsp;\\nThank you for contacting us about this.\\n&nbsp;\\nWe looked into this for you and we confirmed that your recent dispute claim resulted in no error found.&nbsp;\\n&nbsp;\\nIf you have&nbsp;evidence to support your claim that you did not previously provide, you may submit it for consideration. If we determine that it may support your claim, we will open an appeal. Please make sure as well that the document that you'll be providing is related to the claim that you have.&nbsp;\\n&nbsp;\\nExamples of documents or written communication that can help support your claim are:\\n&nbsp;\\n  Police reports (full report is highly preferred however case numbers WITH precinct contact information is acceptable)  Incarceration Records (full release discharge paperwork with dates of incarceration and release provided)  Hospitalization Records (full release discharge paperwork with dates of intake and release provided)  Evidence of returned merchandise or Non-receipt of goods  Email communication/confirmation with merchant  Receipts  &nbsp;\\nWe look forward to your response.\\n&nbsp;\\nBest,\\nJohn D.\",\"public\":true,\"attachments\":[],\"audit_id\":26453627144603},{\"id\":26453627144859,\"type\":\"Change\",\"value\":\"1264993065390\",\"field_name\":\"assignee_id\",\"previous_value\":null},{\"id\":26453627144987,\"type\":\"Change\",\"value\":\"solved\",\"field_name\":\"status\",\"previous_value\":\"new\"},{\"id\":26453627145115,\"type\":\"Change\",\"value\":\"I gathered police report from my previous and only...\",\"field_name\":\"subject\",\"previous_value\":null},{\"id\":26453627145243,\"type\":\"Change\",\"value\":[\"claim\",\"dispute_appeal\",\"dispute_appeal_request\",\"disputes\",\"es_web_form\",\"intent__software__data_lost__data_is_missing\",\"intent_confidence__medium\",\"sentiment__neutral\",\"sentiment_confidence__high\",\"unitq-100188\",\"unitq-162\",\"unitq-165\",\"unitq-29\"],\"field_name\":\"tags\",\"previous_value\":[\"claim\",\"es_web_form\",\"intent__software__data_lost__data_is_missing\",\"intent_confidence__medium\",\"sentiment__neutral\",\"sentiment_confidence__high\",\"unitq-100188\",\"unitq-162\",\"unitq-165\",\"unitq-29\"]},{\"id\":26453627145371,\"type\":\"Change\",\"value\":\"312\",\"field_name\":\"360044806533\",\"previous_value\":null},{\"id\":26453627145499,\"type\":\"Change\",\"value\":\"312\",\"field_name\":\"360044806553\",\"previous_value\":null},{\"id\":26453627145627,\"type\":\"Notification\",\"via\":{\"channel\":\"rule\",\"source\":{\"from\":{\"deleted\":false,\"title\":\"Notify requester of comment update\",\"id\":67433257,\"revision_id\":12},\"rel\":\"trigger\"}},\"subject\":\"[{{ticket.account}}] Re: {{ticket.title}}\",\"body\":\"{{ticket.comments_formatted}}\",\"recipients\":[24640724660123]},{\"id\":26453627147291,\"type\":\"AgentMacroReference\",\"via\":{\"channel\":\"web\",\"source\":{\"from\":{},\"to\":{},\"rel\":null}},\"macro_title\":\"Disputes::Card Disputes::Dispute Appeal Request\",\"macro_id\":\"1260810220989\",\"macro_deleted\":false}],\"via\":{\"channel\":\"web\",\"source\":{\"from\":{},\"to\":{},\"rel\":null}}},{\"id\":26453609983387,\"ticket_id\":11230128,\"created_at\":\"2024-06-10T11:49:40Z\",\"author_id\":1264993065390,\"metadata\":{\"system\":{\"client\":\"Mozilla/5.0 (Windows NT 10.0; Win64; x64) AppleWebKit/537.36 (KHTML, like Gecko) Chrome/125.0.0.0 Safari/537.36\",\"ip_address\":\"43.230.109.76\",\"location\":\"Makati City, 00, Philippines\",\"latitude\":14.566,\"longitude\":121.0193},\"custom\":{}},\"events\":[{\"id\":26453609983515,\"type\":\"Comment\",\"author_id\":1264993065390,\"body\":\"Hi Carlos,\\n\\nThank you for contacting us about this.\\n\\nWe looked into this for you and we confirmed that your recent dispute claim resulted in no error found.\\n\\nIf you have evidence to support your claim that you did not previously provide, you may submit it for consideration. If we determine that it may support your claim, we will open an appeal. Please make sure as well that the document that you'll be providing is related to the claim that you have.\\n\\nExamples of documents or written communication that can help support your claim are:\\n\\n\\n\\n- Police reports _(full report is highly preferred however case numbers WITH precinct contact information is acceptable)_\\n- Incarceration Records _(full release discharge paperwork with dates of incarceration and release provided)_\\n- Hospitalization Records _(full release discharge paperwork with dates of intake and release provided)_\\n- Evidence of returned merchandise or Non-receipt of goods\\n- Email communication/confirmation with merchant\\n- Receipts\\n\\nWe look forward to your response.\\n\\nBest,\\nJohn D.\",\"html_body\":\"<div class=\\\"zd-comment\\\" dir=\\\"auto\\\">Hi Carlos,<br>&nbsp;<br>Thank you for contacting us about this.<br>&nbsp;<br>We looked into this for you and we confirmed that your recent dispute claim resulted in no error found.&nbsp;<br>&nbsp;<br>If you have&nbsp;evidence to support your claim that you did not previously provide, you may submit it for consideration. If we determine that it may support your claim, we will open an appeal. Please make sure as well that the document that you'll be providing is related to the claim that you have.&nbsp;<br>&nbsp;<br>Examples of documents or written communication that can help support your claim are:<br>&nbsp;<br>&nbsp;<br><ul dir=\\\"auto\\\"><li>Police reports <i>(full report is highly preferred however case numbers WITH precinct contact information is acceptable)</i></li><li>Incarceration Records <i>(full release discharge paperwork with dates of incarceration and release provided)</i></li><li>Hospitalization Records <i>(full release discharge paperwork with dates of intake and release provided)</i></li><li>Evidence of returned merchandise or Non-receipt of goods</li><li>Email communication/confirmation with merchant</li><li>Receipts</li></ul>&nbsp;<br>We look forward to your response.<br>&nbsp;<br>Best,<br>John D.<br>&nbsp;<br>&nbsp;<br></div>\",\"plain_body\":\"Hi Carlos,\\n&nbsp;\\nThank you for contacting us about this.\\n&nbsp;\\nWe looked into this for you and we confirmed that your recent dispute claim resulted in no error found.&nbsp;\\n&nbsp;\\nIf you have&nbsp;evidence to support your claim that you did not previously provide, you may submit it for consideration. If we determine that it may support your claim, we will open an appeal. Please make sure as well that the document that you'll be providing is related to the claim that you have.&nbsp;\\n&nbsp;\\nExamples of documents or written communication that can help support your claim are:\\n&nbsp;\\n&nbsp;\\n  Police reports (full report is highly preferred however case numbers WITH precinct contact information is acceptable)  Incarceration Records (full release discharge paperwork with dates of incarceration and release provided)  Hospitalization Records (full release discharge paperwork with dates of intake and release provided)  Evidence of returned merchandise or Non-receipt of goods  Email communication/confirmation with merchant  Receipts  &nbsp;\\nWe look forward to your response.\\n&nbsp;\\nBest,\\nJohn D.\\n&nbsp;\\n&nbsp;\",\"public\":true,\"attachments\":[],\"audit_id\":26453609983387},{\"id\":26453609983643,\"type\":\"Change\",\"value\":[\"claim\",\"dispute_appeal\",\"dispute_appeal_request\",\"disputes\",\"es_web_form\",\"intent__software__data_lost__data_is_missing\",\"intent_confidence__medium\",\"mute\",\"sentiment__neutral\",\"sentiment_confidence__high\",\"unitq-100188\",\"unitq-162\",\"unitq-165\",\"unitq-29\"],\"field_name\":\"tags\",\"previous_value\":[\"claim\",\"dispute_appeal\",\"dispute_appeal_request\",\"disputes\",\"es_web_form\",\"intent__software__data_lost__data_is_missing\",\"intent_confidence__medium\",\"sentiment__neutral\",\"sentiment_confidence__high\",\"unitq-100188\",\"unitq-162\",\"unitq-165\",\"unitq-29\"]},{\"id\":26453609983771,\"type\":\"Change\",\"value\":\"1\",\"field_name\":\"1260815334710\",\"previous_value\":\"0\"},{\"id\":26453609983899,\"type\":\"Change\",\"value\":\"326\",\"field_name\":\"360044806533\",\"previous_value\":\"312\"},{\"id\":26453609984027,\"type\":\"Change\",\"value\":\"14\",\"field_name\":\"360044806553\",\"previous_value\":\"312\"},{\"id\":26453609984155,\"type\":\"Notification\",\"via\":{\"channel\":\"rule\",\"source\":{\"from\":{\"deleted\":false,\"title\":\"Notify requester of comment update\",\"id\":67433257,\"revision_id\":12},\"rel\":\"trigger\"}},\"subject\":\"[{{ticket.account}}] Re: {{ticket.title}}\",\"body\":\"{{ticket.comments_formatted}}\",\"recipients\":[24640724660123]}],\"via\":{\"channel\":\"web\",\"source\":{\"from\":{},\"to\":{},\"rel\":null}}},{\"id\":26453885841179,\"ticket_id\":11230128,\"created_at\":\"2024-06-10T12:03:32Z\",\"author_id\":24640724660123,\"metadata\":{\"system\":{\"message_id\":\"<98A2B214-6D70-41A0-8DEE-00189159FC21@icloud.com>\",\"client\":\"iPhone Mail (21F90)\",\"email_id\":\"01J010GCT54M75NA8GM402PTRV\",\"ip_address\":\"17.57.155.28\",\"raw_email_identifier\":\"853060/f4b5fde0-40b2-4c5b-b103-ace4022fcfa3.eml\",\"json_email_identifier\":\"853060/f4b5fde0-40b2-4c5b-b103-ace4022fcfa3.json\",\"eml_redacted\":false,\"location\":\"United States\",\"latitude\":37.751,\"longitude\":-97.822},\"custom\":{},\"suspension_type_id\":null},\"events\":[{\"id\":26453885841307,\"type\":\"Comment\",\"author_id\":24640724660123,\"body\":\"That’s exactly what I sent \\n\\nTwo police reports more one identifies they stole my personal information completely they broke into my house \\nVery Respectfully \\nCarlos Manuel Otero\\n\\nOn Jun 10, 2024, at 07:49, John D. (Current Support) <support@current.com> wrote:\\n\\n﻿\",\"html_body\":\"<div class=\\\"zd-comment\\\" dir=\\\"auto\\\"><p dir=\\\"auto\\\">That’s exactly what I sent </p>\\n\\n<p dir=\\\"auto\\\">Two police reports more one identifies they stole my personal information completely they broke into my house \\n<br>Very Respectfully \\n<br>Carlos Manuel Otero</p>\\n\\n<p dir=\\\"auto\\\">On Jun 10, 2024, at 07:49, John D. (Current Support) &lt;<a href=\\\"mailto:support@current.com\\\" rel=\\\"noreferrer\\\">support@current.com</a>&gt; wrote:</p>\\n\\n<p dir=\\\"auto\\\">﻿</p></div>\",\"plain_body\":\"That’s exactly what I sent  \\n\\n Two police reports more one identifies they stole my personal information completely they broke into my house \\n\\nVery Respectfully \\n\\nCarlos Manuel Otero \\n\\n On Jun 10, 2024, at 07:49, John D. (Current Support) &lt;support@current.com&gt; wrote: \\n\\n ﻿\",\"public\":true,\"attachments\":[{\"url\":\"https://current.zendesk.com/api/v2/attachments/26453885851291.json\",\"id\":26453885851291,\"file_name\":\"image1.jpeg\",\"content_url\":\"https://current.zendesk.com/attachments/token/hcU5181DMoqgjn0NAqnp6LPoM/?name=image1.jpeg\",\"mapped_content_url\":\"https://support.current.com/attachments/token/hcU5181DMoqgjn0NAqnp6LPoM/?name=image1.jpeg\",\"content_type\":\"image/jpeg\",\"size\":2350599,\"width\":null,\"height\":null,\"inline\":false,\"deleted\":false,\"malware_access_override\":false,\"malware_scan_result\":\"malware_not_found\",\"thumbnails\":[{\"url\":\"https://current.zendesk.com/api/v2/attachments/26453912881691.json\",\"id\":26453912881691,\"file_name\":\"image1_thumb.jpeg\",\"content_url\":\"https://current.zendesk.com/attachments/token/llifiZ6D1hqyDdwsw7vQGGMM3/?name=image1_thumb.jpeg\",\"mapped_content_url\":\"https://support.current.com/attachments/token/llifiZ6D1hqyDdwsw7vQGGMM3/?name=image1_thumb.jpeg\",\"content_type\":\"image/jpeg\",\"size\":1945,\"width\":80,\"height\":60,\"inline\":false,\"deleted\":false,\"malware_access_override\":false,\"malware_scan_result\":\"not_scanned\"}]},{\"url\":\"https://current.zendesk.com/api/v2/attachments/26453945402523.json\",\"id\":26453945402523,\"file_name\":\"image0.jpeg\",\"content_url\":\"https://current.zendesk.com/attachments/token/BYtFbumO8udcwl5rhqSYQeZiY/?name=image0.jpeg\",\"mapped_content_url\":\"https://support.current.com/attachments/token/BYtFbumO8udcwl5rhqSYQeZiY/?name=image0.jpeg\",\"content_type\":\"image/jpeg\",\"size\":2546608,\"width\":null,\"height\":null,\"inline\":false,\"deleted\":false,\"malware_access_override\":false,\"malware_scan_result\":\"malware_not_found\",\"thumbnails\":[{\"url\":\"https://current.zendesk.com/api/v2/attachments/26453945638427.json\",\"id\":26453945638427,\"file_name\":\"image0_thumb.jpeg\",\"content_url\":\"https://current.zendesk.com/attachments/token/SXbPkBl4Kd4w6HkB4mOpQhUAP/?name=image0_thumb.jpeg\",\"mapped_content_url\":\"https://support.current.com/attachments/token/SXbPkBl4Kd4w6HkB4mOpQhUAP/?name=image0_thumb.jpeg\",\"content_type\":\"image/jpeg\",\"size\":2361,\"width\":80,\"height\":60,\"inline\":false,\"deleted\":false,\"malware_access_override\":false,\"malware_scan_result\":\"not_scanned\"}]}],\"audit_id\":26453885841179},{\"id\":26453885841435,\"type\":\"Change\",\"value\":\"open\",\"field_name\":\"status\",\"previous_value\":\"solved\"}],\"via\":{\"channel\":\"email\",\"source\":{\"from\":{\"address\":\"carlos.on.matrix@icloud.com\",\"name\":\"Caller +1 (305) 525-5757\",\"original_recipients\":[\"carlos.on.matrix@icloud.com\",\"support@current.com\"]},\"to\":{\"name\":\"Current\",\"address\":null},\"rel\":null}}},{\"id\":26453925392795,\"ticket_id\":11230128,\"created_at\":\"2024-06-10T12:03:33Z\",\"author_id\":-1,\"metadata\":{\"system\":{},\"custom\":{},\"parent_audit_id\":\"26453885841179\"},\"events\":[{\"id\":26453925393051,\"type\":\"Change\",\"previous_value\":null,\"value\":{\"minutes\":480,\"seconds\":28800,\"in_business_hours\":false},\"field_name\":\"next_reply_time\",\"via\":{\"source\":{\"rel\":\"sla_target_change\"},\"current_sla_policy\":\"General Email\"}}],\"via\":{\"channel\":\"sla\",\"source\":{\"from\":{},\"to\":{},\"rel\":null}}},{\"id\":26453938772507,\"ticket_id\":11230128,\"created_at\":\"2024-06-10T12:04:07Z\",\"author_id\":24640724660123,\"metadata\":{\"system\":{\"message_id\":\"<37318939-48BF-4C50-BB8A-56D4C9DC0E92@icloud.com>\",\"client\":\"iPhone Mail (21F90)\",\"email_id\":\"01J010HGA9H6ME3GVQMZZEA159\",\"ip_address\":\"17.57.155.28\",\"raw_email_identifier\":\"853060/6ed3f40c-35ad-4f87-8cfb-b01b964751cb.eml\",\"json_email_identifier\":\"853060/6ed3f40c-35ad-4f87-8cfb-b01b964751cb.json\",\"eml_redacted\":false,\"location\":\"United States\",\"latitude\":37.751,\"longitude\":-97.822},\"custom\":{},\"suspension_type_id\":null},\"events\":[{\"id\":26453948000539,\"type\":\"Comment\",\"author_id\":24640724660123,\"body\":\"I don’t even own any jewelry and doing my research that place that charged me is high on the fraud scheme list. \\n\\nIf I win a civil lawsuit against the jewelry. I want to see on discovery per attorneys the conclusion you made saying this was no error. \\n\\nVery Respectfully \\nCarlos Manuel Otero\\n\\nOn Jun 10, 2024, at 07:49, John D. (Current Support) <support@current.com> wrote:\\n\\n﻿\",\"html_body\":\"<div class=\\\"zd-comment\\\" dir=\\\"auto\\\"><p dir=\\\"auto\\\">I don’t even own any jewelry and doing my research that place that charged me is high on the fraud scheme list. </p>\\n\\n<p dir=\\\"auto\\\">If I win a civil lawsuit against the jewelry. I want to see on discovery per attorneys the conclusion you made saying this was no error. </p>\\n\\n<p dir=\\\"auto\\\">Very Respectfully \\n<br>Carlos Manuel Otero</p>\\n\\n<p dir=\\\"auto\\\">On Jun 10, 2024, at 07:49, John D. (Current Support) &lt;<a href=\\\"mailto:support@current.com\\\" rel=\\\"noreferrer\\\">support@current.com</a>&gt; wrote:</p>\\n\\n<p dir=\\\"auto\\\">﻿</p></div>\",\"plain_body\":\"I don’t even own any jewelry and doing my research that place that charged me is high on the fraud scheme list.  \\n\\n If I win a civil lawsuit against the jewelry. I want to see on discovery per attorneys the conclusion you made saying this was no error.  \\n\\n Very Respectfully \\n\\nCarlos Manuel Otero \\n\\n On Jun 10, 2024, at 07:49, John D. (Current Support) &lt;support@current.com&gt; wrote: \\n\\n ﻿\",\"public\":true,\"attachments\":[],\"audit_id\":26453938772507}],\"via\":{\"channel\":\"email\",\"source\":{\"from\":{\"address\":\"carlos.on.matrix@icloud.com\",\"name\":\"Caller +1 (305) 525-5757\",\"original_recipients\":[\"carlos.on.matrix@icloud.com\",\"support@current.com\"]},\"to\":{\"name\":\"Current\",\"address\":null},\"rel\":null}}},{\"id\":26453958212251,\"ticket_id\":11230128,\"created_at\":\"2024-06-10T12:05:55Z\",\"author_id\":1902986750104,\"metadata\":{\"system\":{\"client\":\"AHC/2.1\",\"ip_address\":\"44.238.146.237\",\"location\":\"Boardman, OR, United States\",\"latitude\":45.8234,\"longitude\":-119.7257},\"custom\":{}},\"events\":[{\"id\":26453958212379,\"type\":\"Change\",\"value\":[\"claim\",\"dispute_appeal\",\"dispute_appeal_request\",\"disputes\",\"es_web_form\",\"intent__software__data_lost__data_is_missing\",\"intent_confidence__medium\",\"mute\",\"sentiment__neutral\",\"sentiment_confidence__high\",\"unitq-100014\",\"unitq-100188\",\"unitq-162\",\"unitq-163\",\"unitq-165\",\"unitq-273\",\"unitq-29\",\"unitq-343\"],\"field_name\":\"tags\",\"previous_value\":[\"claim\",\"dispute_appeal\",\"dispute_appeal_request\",\"disputes\",\"es_web_form\",\"intent__software__data_lost__data_is_missing\",\"intent_confidence__medium\",\"mute\",\"sentiment__neutral\",\"sentiment_confidence__high\",\"unitq-100188\",\"unitq-162\",\"unitq-165\",\"unitq-29\"]},{\"id\":26453958212507,\"type\":\"Change\",\"value\":\"unitq-273 unitq-29 unitq-343\",\"field_name\":\"14520140362907\",\"previous_value\":\"unitq-29\"}],\"via\":{\"channel\":\"api\",\"source\":{\"from\":{},\"to\":{},\"rel\":null}}},{\"id\":26467517341083,\"ticket_id\":11230128,\"created_at\":\"2024-06-10T18:02:30Z\",\"author_id\":-1,\"metadata\":{\"system\":{},\"custom\":{}},\"events\":[{\"id\":26467517341211,\"type\":\"Change\",\"value\":null,\"field_name\":\"assignee_id\",\"previous_value\":\"1264993065390\"}],\"via\":{\"channel\":\"rule\",\"source\":{\"to\":{},\"from\":{\"deleted\":false,\"title\":\"** Gen email: return to queue\",\"id\":15762493575067},\"rel\":\"automation\"}}},{\"id\":26522098045083,\"ticket_id\":11230128,\"created_at\":\"2024-06-12T12:46:50Z\",\"author_id\":1267003494309,\"metadata\":{\"system\":{\"client\":\"Mozilla/5.0 (Windows NT 10.0; Win64; x64) AppleWebKit/537.36 (KHTML, like Gecko) Chrome/125.0.0.0 Safari/537.36\",\"ip_address\":\"43.230.109.76\",\"location\":\"Makati City, 00, Philippines\",\"latitude\":14.566,\"longitude\":121.0193},\"custom\":{}},\"events\":[{\"id\":26522098045211,\"type\":\"Comment\",\"author_id\":1267003494309,\"body\":\"Hi Carlos,\\n\\nThanks for providing documents to support your dispute appeal.\\n\\nI’ve escalated your request to our Disputes Team for further review. They’ll review the information you provided to determine if we can move forward with an appeal. You’ll receive an update on this request within 5-7 business days.\\n\\nIf we’re able to go ahead with an appeal, the investigation will be completed within 45 calendar days. This includes the time it takes for us to investigate and communicate with the merchant. You’ll be notified by email with the final result.\\n\\nBest,\\nMJ\",\"html_body\":\"<div class=\\\"zd-comment\\\" dir=\\\"auto\\\">Hi Carlos,<br>&nbsp;<br>Thanks for providing documents to support your dispute appeal.<br>&nbsp;<br>I’ve escalated your request to our Disputes Team for further review. They’ll review the information you provided to determine if we can move forward with an appeal. You’ll receive an update on this request within 5-7 business days.<br>&nbsp;<br>If we’re able to go ahead with an appeal, the investigation will be completed within 45 calendar days. This includes the time it takes for us to investigate and communicate with the merchant. You’ll be notified by email with the final result.<br>&nbsp;<br>Best,<br>MJ<br></div>\",\"plain_body\":\"Hi Carlos,\\n&nbsp;\\nThanks for providing documents to support your dispute appeal.\\n&nbsp;\\nI’ve escalated your request to our Disputes Team for further review. They’ll review the information you provided to determine if we can move forward with an appeal. You’ll receive an update on this request within 5-7 business days.\\n&nbsp;\\nIf we’re able to go ahead with an appeal, the investigation will be completed within 45 calendar days. This includes the time it takes for us to investigate and communicate with the merchant. You’ll be notified by email with the final result.\\n&nbsp;\\nBest,\\nMJ\",\"public\":true,\"attachments\":[],\"audit_id\":26522098045083},{\"id\":26522098045339,\"type\":\"Change\",\"value\":\"1260806653470\",\"field_name\":\"group_id\",\"previous_value\":\"27458867\"},{\"id\":26522098045467,\"type\":\"Change\",\"value\":[\"claim\",\"dispute\",\"dispute_appeal\",\"dispute_appeal__evidence_provided__\",\"dispute_appeal_esc\",\"dispute_appeal_request\",\"disputes\",\"es_web_form\",\"intent__software__data_lost__data_is_missing\",\"intent_confidence__medium\",\"mute\",\"sentiment__neutral\",\"sentiment_confidence__high\",\"unitq-100014\",\"unitq-100188\",\"unitq-162\",\"unitq-163\",\"unitq-165\",\"unitq-273\",\"unitq-29\",\"unitq-343\"],\"field_name\":\"tags\",\"previous_value\":[\"claim\",\"dispute_appeal\",\"dispute_appeal_request\",\"disputes\",\"es_web_form\",\"intent__software__data_lost__data_is_missing\",\"intent_confidence__medium\",\"mute\",\"sentiment__neutral\",\"sentiment_confidence__high\",\"unitq-100014\",\"unitq-100188\",\"unitq-162\",\"unitq-163\",\"unitq-165\",\"unitq-273\",\"unitq-29\",\"unitq-343\"]},{\"id\":26522098045595,\"type\":\"Change\",\"value\":\"352\",\"field_name\":\"360044806533\",\"previous_value\":\"326\"},{\"id\":26522098045723,\"type\":\"Change\",\"value\":\"26\",\"field_name\":\"360044806553\",\"previous_value\":\"14\"},{\"id\":26522098045851,\"type\":\"Change\",\"value\":\"dispute_appeal__evidence_provided__\",\"field_name\":\"4417296967067\",\"previous_value\":null},{\"id\":26522098045979,\"type\":\"Notification\",\"via\":{\"channel\":\"rule\",\"source\":{\"from\":{\"deleted\":false,\"title\":\"Notify requester of comment update\",\"id\":67433257,\"revision_id\":12},\"rel\":\"trigger\"}},\"subject\":\"[{{ticket.account}}] Re: {{ticket.title}}\",\"body\":\"{{ticket.comments_formatted}}\",\"recipients\":[24640724660123]},{\"id\":26522126482331,\"type\":\"AgentMacroReference\",\"via\":{\"channel\":\"web\",\"source\":{\"from\":{},\"to\":{},\"rel\":null}},\"macro_title\":\"Escalations::Disputes::Dispute Appeal - Evidence Provided (Disputes)\",\"macro_id\":\"1260860901130\",\"macro_deleted\":false},{\"id\":26522126483227,\"type\":\"Change\",\"value\":\"Disputes SLA\",\"field_name\":\"sla_policy\",\"previous_value\":\"General Email\"}],\"via\":{\"channel\":\"web\",\"source\":{\"from\":{},\"to\":{},\"rel\":null}}},{\"id\":26522101136795,\"ticket_id\":11230128,\"created_at\":\"2024-06-12T12:47:41Z\",\"author_id\":1267003494309,\"metadata\":{\"system\":{\"client\":\"Mozilla/5.0 (Windows NT 10.0; Win64; x64) AppleWebKit/537.36 (KHTML, like Gecko) Chrome/125.0.0.0 Safari/537.36\",\"ip_address\":\"43.230.109.76\",\"location\":\"Makati City, 00, Philippines\",\"latitude\":14.566,\"longitude\":121.0193},\"custom\":{}},\"events\":[{\"id\":26522101136923,\"type\":\"Comment\",\"author_id\":1267003494309,\"body\":\"CUID: FRHarhoOGsWNbZJCzElqXqCInOigWuhr\\nDID: 09db55c2-49b8-4d8f-92a1-71102eb928e9\\n\\nConcern : Dispute appeal request.\\n\\nPlease assist. Thank you.\",\"html_body\":\"<div class=\\\"zd-comment\\\" dir=\\\"auto\\\">CUID: FRHarhoOGsWNbZJCzElqXqCInOigWuhr<br>DID: 09db55c2-49b8-4d8f-92a1-71102eb928e9<br><br>Concern : Dispute appeal request.&nbsp;<br>&nbsp;<br>Please assist. Thank you. <br></div>\",\"plain_body\":\"CUID: FRHarhoOGsWNbZJCzElqXqCInOigWuhr\\nDID: 09db55c2-49b8-4d8f-92a1-71102eb928e9\\n\\nConcern : Dispute appeal request.&nbsp;\\n&nbsp;\\nPlease assist. Thank you.\",\"public\":false,\"attachments\":[{\"url\":\"https://current.zendesk.com/api/v2/attachments/26522115709467.json\",\"id\":26522115709467,\"file_name\":\"IdentityTheft.pdf\",\"content_url\":\"https://current.zendesk.com/attachments/token/Ovu4eqBS8gsmABvR2QxiSEyRl/?name=IdentityTheft.pdf\",\"mapped_content_url\":\"https://support.current.com/attachments/token/Ovu4eqBS8gsmABvR2QxiSEyRl/?name=IdentityTheft.pdf\",\"content_type\":\"application/pdf\",\"size\":1684724,\"width\":null,\"height\":null,\"inline\":false,\"deleted\":false,\"malware_access_override\":false,\"malware_scan_result\":\"malware_not_found\",\"thumbnails\":[]}],\"audit_id\":26522101136795},{\"id\":26522101137051,\"type\":\"Change\",\"value\":\"FRHarhoOGsWNbZJCzElqXqCInOigWuhr\",\"field_name\":\"360012410073\",\"previous_value\":null},{\"id\":26522101137179,\"type\":\"Change\",\"value\":\"​​​​​​​​​​​​​​​​​​​​​​​​​​​​​​CUID: FRHarhoOGsWNbZJCzElqXqCInOigWuhr\\nDID: 09db55c2-49b8-4d8f-92a1-71102eb928e9\\n​​\\n​Concern : Dispute appeal request. \\n\\nPlease assist. Thank you. ​​​​​​\",\"field_name\":\"360012410133\",\"previous_value\":null},{\"id\":26522101137307,\"type\":\"Change\",\"value\":\"403\",\"field_name\":\"360044806533\",\"previous_value\":\"352\"},{\"id\":26522101137435,\"type\":\"Change\",\"value\":\"51\",\"field_name\":\"360044806553\",\"previous_value\":\"26\"}],\"via\":{\"channel\":\"web\",\"source\":{\"from\":{},\"to\":{},\"rel\":null}}},{\"id\":26522150102939,\"ticket_id\":11230128,\"created_at\":\"2024-06-12T12:48:13Z\",\"author_id\":1902986750104,\"metadata\":{\"system\":{\"client\":\"AHC/2.1\",\"ip_address\":\"35.165.237.28\",\"location\":\"Boardman, OR, United States\",\"latitude\":45.8234,\"longitude\":-119.7257},\"custom\":{}},\"events\":[{\"id\":26522150103067,\"type\":\"Change\",\"value\":[\"claim\",\"dispute\",\"dispute_appeal\",\"dispute_appeal__evidence_provided__\",\"dispute_appeal_esc\",\"dispute_appeal_request\",\"disputes\",\"es_web_form\",\"intent__software__data_lost__data_is_missing\",\"intent_confidence__medium\",\"mute\",\"sentiment__neutral\",\"sentiment_confidence__high\",\"unitq-100014\",\"unitq-100188\",\"unitq-162\",\"unitq-163\",\"unitq-165\",\"unitq-273\",\"unitq-29\",\"unitq-311\",\"unitq-343\"],\"field_name\":\"tags\",\"previous_value\":[\"claim\",\"dispute\",\"dispute_appeal\",\"dispute_appeal__evidence_provided__\",\"dispute_appeal_esc\",\"dispute_appeal_request\",\"disputes\",\"es_web_form\",\"intent__software__data_lost__data_is_missing\",\"intent_confidence__medium\",\"mute\",\"sentiment__neutral\",\"sentiment_confidence__high\",\"unitq-100014\",\"unitq-100188\",\"unitq-162\",\"unitq-163\",\"unitq-165\",\"unitq-273\",\"unitq-29\",\"unitq-343\"]},{\"id\":26522150103195,\"type\":\"Change\",\"value\":\"unitq-273 unitq-29 unitq-311 unitq-343\",\"field_name\":\"14520140362907\",\"previous_value\":\"unitq-273 unitq-29 unitq-343\"}],\"via\":{\"channel\":\"api\",\"source\":{\"from\":{},\"to\":{},\"rel\":null}}},{\"id\":26522194625435,\"ticket_id\":11230128,\"created_at\":\"2024-06-12T12:50:23Z\",\"author_id\":1902986750104,\"metadata\":{\"system\":{\"client\":\"AHC/2.1\",\"ip_address\":\"44.234.231.68\",\"location\":\"Boardman, OR, United States\",\"latitude\":45.8234,\"longitude\":-119.7257},\"custom\":{}},\"events\":[{\"id\":26522194625563,\"type\":\"Change\",\"value\":[\"claim\",\"dispute\",\"dispute_appeal\",\"dispute_appeal__evidence_provided__\",\"dispute_appeal_esc\",\"dispute_appeal_request\",\"disputes\",\"es_web_form\",\"intent__software__data_lost__data_is_missing\",\"intent_confidence__medium\",\"mute\",\"sentiment__neutral\",\"sentiment_confidence__high\",\"unitq-100014\",\"unitq-100188\",\"unitq-162\",\"unitq-163\",\"unitq-165\",\"unitq-273\",\"unitq-29\",\"unitq-31\",\"unitq-311\",\"unitq-343\"],\"field_name\":\"tags\",\"previous_value\":[\"claim\",\"dispute\",\"dispute_appeal\",\"dispute_appeal__evidence_provided__\",\"dispute_appeal_esc\",\"dispute_appeal_request\",\"disputes\",\"es_web_form\",\"intent__software__data_lost__data_is_missing\",\"intent_confidence__medium\",\"mute\",\"sentiment__neutral\",\"sentiment_confidence__high\",\"unitq-100014\",\"unitq-100188\",\"unitq-162\",\"unitq-163\",\"unitq-165\",\"unitq-273\",\"unitq-29\",\"unitq-311\",\"unitq-343\"]},{\"id\":26522194625691,\"type\":\"Change\",\"value\":\"unitq-273 unitq-29 unitq-31 unitq-311 unitq-343\",\"field_name\":\"14520140362907\",\"previous_value\":\"unitq-273 unitq-29 unitq-311 unitq-343\"}],\"via\":{\"channel\":\"api\",\"source\":{\"from\":{},\"to\":{},\"rel\":null}}}],\"next_page\":null,\"previous_page\":null,\"count\":15}\n"
          ]
        }
      ]
    },
    {
      "cell_type": "code",
      "source": [
        "audit = json.loads(response.text)"
      ],
      "metadata": {
        "colab": {
          "base_uri": "https://localhost:8080/",
          "height": 17
        },
        "id": "aLOtMGvV-uUK",
        "outputId": "73791ecb-64d0-4a16-a7bc-7f3b27df9835"
      },
      "execution_count": 16,
      "outputs": [
        {
          "output_type": "display_data",
          "data": {
            "text/plain": [
              "<IPython.core.display.Javascript object>"
            ],
            "application/javascript": [
              "google.colab.output.setIframeHeight(0, true, {maxHeight: 500})"
            ]
          },
          "metadata": {}
        }
      ]
    },
    {
      "cell_type": "code",
      "source": [
        "for msg in audit['audits']:\n",
        "  print(msg)"
      ],
      "metadata": {
        "colab": {
          "base_uri": "https://localhost:8080/",
          "height": 297
        },
        "id": "HI-VJX7y1v8U",
        "outputId": "41cc3e51-b431-45b7-e246-b1941be67858"
      },
      "execution_count": 17,
      "outputs": [
        {
          "output_type": "display_data",
          "data": {
            "text/plain": [
              "<IPython.core.display.Javascript object>"
            ],
            "application/javascript": [
              "google.colab.output.setIframeHeight(0, true, {maxHeight: 500})"
            ]
          },
          "metadata": {}
        },
        {
          "output_type": "stream",
          "name": "stdout",
          "text": [
            "{'id': 26446589233307, 'ticket_id': 11230128, 'created_at': '2024-06-09T22:30:54Z', 'author_id': 24640724660123, 'metadata': {'system': {'client': 'Mozilla/5.0 (iPhone; CPU iPhone OS 17_5_1 like Mac OS X) AppleWebKit/605.1.15 (KHTML, like Gecko) Version/17.5 Mobile/15E148 Safari/604.1', 'ip_address': '66.229.140.73', 'location': 'Fort Lauderdale, FL, United States', 'latitude': 26.1792, 'longitude': -80.1749}, 'custom': {}, 'flags': [3], 'flags_options': {'3': {'trusted': False}}, 'trusted': False}, 'events': [{'id': 26446589233435, 'type': 'Comment', 'author_id': 24640724660123, 'body': 'I gathered police report from my previous and only dispute which by current I lost it.', 'html_body': '<div class=\"zd-comment\" dir=\"auto\">I gathered police report from my previous and only dispute which by current I lost it.</div>', 'plain_body': 'I gathered police report from my previous and only dispute which by current I lost it.', 'public': True, 'attachments': [{'url': 'https://current.zendesk.com/api/v2/attachments/26446632847643.json', 'id': 26446632847643, 'file_name': 'IdentityTheft.pdf', 'content_url': 'https://current.zendesk.com/attachments/token/OdGDEziRLZ76aftmh3JZ3WoIY/?name=IdentityTheft.pdf', 'mapped_content_url': 'https://support.current.com/attachments/token/OdGDEziRLZ76aftmh3JZ3WoIY/?name=IdentityTheft.pdf', 'content_type': 'application/pdf', 'size': 1684724, 'width': None, 'height': None, 'inline': False, 'deleted': False, 'malware_access_override': False, 'malware_scan_result': 'malware_not_found', 'thumbnails': []}], 'audit_id': 26446589233307}, {'id': 26446589233563, 'type': 'Create', 'value': '24640724660123', 'field_name': 'requester_id'}, {'id': 26446589233691, 'type': 'Create', 'value': '656407', 'field_name': 'brand_id'}, {'id': 26446589233819, 'type': 'Create', 'value': '208507', 'field_name': 'ticket_form_id'}, {'id': 26446589233947, 'type': 'Create', 'value': ['claim'], 'field_name': 'tags'}, {'id': 26446589234075, 'type': 'Create', 'value': 'claim', 'field_name': '360009607114'}, {'id': 26446589234203, 'type': 'Create', 'value': None, 'field_name': 'priority'}, {'id': 26446589234331, 'type': 'Create', 'value': None, 'field_name': 'type'}, {'id': 26446589234459, 'type': 'Create', 'value': 'new', 'field_name': 'status'}, {'id': 26446589234587, 'type': 'Notification', 'via': {'channel': 'rule', 'source': {'from': {'deleted': False, 'title': 'Notify requester of received request', 'id': 67433247, 'revision_id': 34}, 'rel': 'trigger'}}, 'subject': '[Request received] {{ticket.id}}', 'body': 'Hi {{ticket.requester.first_name}}\\n\\nThanks for reaching out to Current Support. We\\'ve received your request and a team member will be responding to you shortly. We typically respond to emails in under 24 hours, but if you need faster help we have Live Chat available 24/7 within the app.\\n\\nWe\\'ll be in touch as soon as possible. If you need to add additional comments to your request, please reply here. You can also check out our FAQs for common questions or concerns available <a href=\"https://support.current.com\">here</a>.\\n\\nThank you,\\nCurrent Support', 'recipients': [24640724660123]}, {'id': 26446589234715, 'type': 'Change', 'via': {'channel': 'rule', 'source': {'from': {'deleted': False, 'title': 'Default Priority', 'id': 6310660607643, 'revision_id': 1}, 'rel': 'trigger'}}, 'value': 'normal', 'field_name': 'priority', 'previous_value': None}, {'id': 26446589234843, 'type': 'Change', 'via': {'channel': 'rule', 'source': {'from': {'deleted': False, 'title': 'Web Form submission', 'id': 19893391540763, 'revision_id': 2}, 'rel': 'trigger'}}, 'value': '27458867', 'field_name': 'group_id', 'previous_value': None}, {'id': 26446589234971, 'type': 'Change', 'via': {'channel': 'rule', 'source': {'from': {'deleted': False, 'title': 'Email sourcing: Web Form', 'id': 1260871038449, 'revision_id': 1}, 'rel': 'trigger'}}, 'value': ['claim', 'es_web_form'], 'field_name': 'tags', 'previous_value': ['claim']}, {'id': 26446589235099, 'type': 'Change', 'via': {'channel': 'rule', 'source': {'from': {'deleted': False, 'title': 'Email sourcing: Web Form', 'id': 1260871038449, 'revision_id': 1}, 'rel': 'trigger'}}, 'value': 'es_web_form', 'field_name': '4417248920731', 'previous_value': None}, {'id': 26446589235611, 'type': 'Create', 'value': 'General Email', 'field_name': 'sla_policy'}], 'via': {'channel': 'web', 'source': {'from': {}, 'to': {}, 'rel': None}}}\n",
            "{'id': 26446617220507, 'ticket_id': 11230128, 'created_at': '2024-06-09T22:30:54Z', 'author_id': -1, 'metadata': {'system': {}, 'custom': {}, 'parent_audit_id': '26446589233307'}, 'events': [{'id': 26446617220635, 'type': 'Change', 'previous_value': None, 'value': {'minutes': 1440, 'seconds': 86400, 'in_business_hours': False}, 'field_name': 'first_reply_time', 'via': {'source': {'rel': 'sla_target_change'}, 'current_sla_policy': 'General Email'}}], 'via': {'channel': 'sla', 'source': {'from': {}, 'to': {}, 'rel': None}}}\n",
            "{'id': 26446605287067, 'ticket_id': 11230128, 'created_at': '2024-06-09T22:30:56Z', 'author_id': -1, 'metadata': {'system': {}, 'custom': {}}, 'events': [{'id': 26446605287195, 'type': 'Change', 'value': ['claim', 'es_web_form', 'intent__software__data_lost__data_is_missing', 'intent_confidence__medium', 'sentiment__neutral', 'sentiment_confidence__high'], 'field_name': 'tags', 'previous_value': ['claim', 'es_web_form']}, {'id': 26446605287323, 'type': 'Change', 'value': 'intent__software__data_lost__data_is_missing', 'field_name': '24234731238811', 'previous_value': None}, {'id': 26446605287451, 'type': 'Change', 'value': 'intent_confidence__medium', 'field_name': '24234731253531', 'previous_value': None}, {'id': 26446605287579, 'type': 'Change', 'value': 'sentiment__neutral', 'field_name': '24234700067611', 'previous_value': None}, {'id': 26446605287707, 'type': 'Change', 'value': 'sentiment_confidence__high', 'field_name': '24234700077083', 'previous_value': None}], 'via': {'channel': 'web', 'source': {'from': {}, 'to': {}, 'rel': None}}}\n",
            "{'id': 26446650127387, 'ticket_id': 11230128, 'created_at': '2024-06-09T22:33:03Z', 'author_id': 1902986750104, 'metadata': {'system': {'client': 'AHC/2.1', 'ip_address': '52.11.110.143', 'location': 'Boardman, OR, United States', 'latitude': 45.8234, 'longitude': -119.7257}, 'custom': {}}, 'events': [{'id': 26446650127515, 'type': 'Change', 'value': ['claim', 'es_web_form', 'intent__software__data_lost__data_is_missing', 'intent_confidence__medium', 'sentiment__neutral', 'sentiment_confidence__high', 'unitq-100188', 'unitq-162', 'unitq-165', 'unitq-29'], 'field_name': 'tags', 'previous_value': ['claim', 'es_web_form', 'intent__software__data_lost__data_is_missing', 'intent_confidence__medium', 'sentiment__neutral', 'sentiment_confidence__high']}, {'id': 26446650127643, 'type': 'Change', 'value': 'unitq-29', 'field_name': '14520140362907', 'previous_value': None}, {'id': 26446650127771, 'type': 'Change', 'via': {'channel': 'rule', 'source': {'from': {'deleted': False, 'title': 'unitQ tagged', 'id': 16368836462363, 'revision_id': 1}, 'rel': 'trigger'}}, 'value': '1', 'field_name': '16368795396123', 'previous_value': None}], 'via': {'channel': 'api', 'source': {'from': {}, 'to': {}, 'rel': None}}}\n",
            "{'id': 26453627144603, 'ticket_id': 11230128, 'created_at': '2024-06-10T11:49:21Z', 'author_id': 1264993065390, 'metadata': {'system': {'client': 'Mozilla/5.0 (Windows NT 10.0; Win64; x64) AppleWebKit/537.36 (KHTML, like Gecko) Chrome/125.0.0.0 Safari/537.36', 'ip_address': '43.230.109.76', 'location': 'Makati City, 00, Philippines', 'latitude': 14.566, 'longitude': 121.0193}, 'custom': {}}, 'events': [{'id': 26453627144731, 'type': 'Comment', 'author_id': 1264993065390, 'body': \"Hi Caller,\\n\\nThank you for contacting us about this.\\n\\nWe looked into this for you and we confirmed that your recent dispute claim resulted in no error found.\\n\\nIf you have evidence to support your claim that you did not previously provide, you may submit it for consideration. If we determine that it may support your claim, we will open an appeal. Please make sure as well that the document that you'll be providing is related to the claim that you have.\\n\\nExamples of documents or written communication that can help support your claim are:\\n\\n\\n- Police reports _(full report is highly preferred however case numbers WITH precinct contact information is acceptable)_\\n- Incarceration Records _(full release discharge paperwork with dates of incarceration and release provided)_\\n- Hospitalization Records _(full release discharge paperwork with dates of intake and release provided)_\\n- Evidence of returned merchandise or Non-receipt of goods\\n- Email communication/confirmation with merchant\\n- Receipts\\n\\nWe look forward to your response.\\n\\nBest,\\nJohn D.\", 'html_body': '<div class=\"zd-comment\" dir=\"auto\">Hi Caller,<br>&nbsp;<br>Thank you for contacting us about this.<br>&nbsp;<br>We looked into this for you and we confirmed that your recent dispute claim resulted in no error found.&nbsp;<br>&nbsp;<br>If you have&nbsp;evidence to support your claim that you did not previously provide, you may submit it for consideration. If we determine that it may support your claim, we will open an appeal. Please make sure as well that the document that you\\'ll be providing is related to the claim that you have.&nbsp;<br>&nbsp;<br>Examples of documents or written communication that can help support your claim are:<br>&nbsp;<br><ul dir=\"auto\"><li>Police reports <i>(full report is highly preferred however case numbers WITH precinct contact information is acceptable)</i></li><li>Incarceration Records <i>(full release discharge paperwork with dates of incarceration and release provided)</i></li><li>Hospitalization Records <i>(full release discharge paperwork with dates of intake and release provided)</i></li><li>Evidence of returned merchandise or Non-receipt of goods</li><li>Email communication/confirmation with merchant</li><li>Receipts</li></ul>&nbsp;<br>We look forward to your response.<br>&nbsp;<br>Best,<br>John D.<br></div>', 'plain_body': \"Hi Caller,\\n&nbsp;\\nThank you for contacting us about this.\\n&nbsp;\\nWe looked into this for you and we confirmed that your recent dispute claim resulted in no error found.&nbsp;\\n&nbsp;\\nIf you have&nbsp;evidence to support your claim that you did not previously provide, you may submit it for consideration. If we determine that it may support your claim, we will open an appeal. Please make sure as well that the document that you'll be providing is related to the claim that you have.&nbsp;\\n&nbsp;\\nExamples of documents or written communication that can help support your claim are:\\n&nbsp;\\n  Police reports (full report is highly preferred however case numbers WITH precinct contact information is acceptable)  Incarceration Records (full release discharge paperwork with dates of incarceration and release provided)  Hospitalization Records (full release discharge paperwork with dates of intake and release provided)  Evidence of returned merchandise or Non-receipt of goods  Email communication/confirmation with merchant  Receipts  &nbsp;\\nWe look forward to your response.\\n&nbsp;\\nBest,\\nJohn D.\", 'public': True, 'attachments': [], 'audit_id': 26453627144603}, {'id': 26453627144859, 'type': 'Change', 'value': '1264993065390', 'field_name': 'assignee_id', 'previous_value': None}, {'id': 26453627144987, 'type': 'Change', 'value': 'solved', 'field_name': 'status', 'previous_value': 'new'}, {'id': 26453627145115, 'type': 'Change', 'value': 'I gathered police report from my previous and only...', 'field_name': 'subject', 'previous_value': None}, {'id': 26453627145243, 'type': 'Change', 'value': ['claim', 'dispute_appeal', 'dispute_appeal_request', 'disputes', 'es_web_form', 'intent__software__data_lost__data_is_missing', 'intent_confidence__medium', 'sentiment__neutral', 'sentiment_confidence__high', 'unitq-100188', 'unitq-162', 'unitq-165', 'unitq-29'], 'field_name': 'tags', 'previous_value': ['claim', 'es_web_form', 'intent__software__data_lost__data_is_missing', 'intent_confidence__medium', 'sentiment__neutral', 'sentiment_confidence__high', 'unitq-100188', 'unitq-162', 'unitq-165', 'unitq-29']}, {'id': 26453627145371, 'type': 'Change', 'value': '312', 'field_name': '360044806533', 'previous_value': None}, {'id': 26453627145499, 'type': 'Change', 'value': '312', 'field_name': '360044806553', 'previous_value': None}, {'id': 26453627145627, 'type': 'Notification', 'via': {'channel': 'rule', 'source': {'from': {'deleted': False, 'title': 'Notify requester of comment update', 'id': 67433257, 'revision_id': 12}, 'rel': 'trigger'}}, 'subject': '[{{ticket.account}}] Re: {{ticket.title}}', 'body': '{{ticket.comments_formatted}}', 'recipients': [24640724660123]}, {'id': 26453627147291, 'type': 'AgentMacroReference', 'via': {'channel': 'web', 'source': {'from': {}, 'to': {}, 'rel': None}}, 'macro_title': 'Disputes::Card Disputes::Dispute Appeal Request', 'macro_id': '1260810220989', 'macro_deleted': False}], 'via': {'channel': 'web', 'source': {'from': {}, 'to': {}, 'rel': None}}}\n",
            "{'id': 26453609983387, 'ticket_id': 11230128, 'created_at': '2024-06-10T11:49:40Z', 'author_id': 1264993065390, 'metadata': {'system': {'client': 'Mozilla/5.0 (Windows NT 10.0; Win64; x64) AppleWebKit/537.36 (KHTML, like Gecko) Chrome/125.0.0.0 Safari/537.36', 'ip_address': '43.230.109.76', 'location': 'Makati City, 00, Philippines', 'latitude': 14.566, 'longitude': 121.0193}, 'custom': {}}, 'events': [{'id': 26453609983515, 'type': 'Comment', 'author_id': 1264993065390, 'body': \"Hi Carlos,\\n\\nThank you for contacting us about this.\\n\\nWe looked into this for you and we confirmed that your recent dispute claim resulted in no error found.\\n\\nIf you have evidence to support your claim that you did not previously provide, you may submit it for consideration. If we determine that it may support your claim, we will open an appeal. Please make sure as well that the document that you'll be providing is related to the claim that you have.\\n\\nExamples of documents or written communication that can help support your claim are:\\n\\n\\n\\n- Police reports _(full report is highly preferred however case numbers WITH precinct contact information is acceptable)_\\n- Incarceration Records _(full release discharge paperwork with dates of incarceration and release provided)_\\n- Hospitalization Records _(full release discharge paperwork with dates of intake and release provided)_\\n- Evidence of returned merchandise or Non-receipt of goods\\n- Email communication/confirmation with merchant\\n- Receipts\\n\\nWe look forward to your response.\\n\\nBest,\\nJohn D.\", 'html_body': '<div class=\"zd-comment\" dir=\"auto\">Hi Carlos,<br>&nbsp;<br>Thank you for contacting us about this.<br>&nbsp;<br>We looked into this for you and we confirmed that your recent dispute claim resulted in no error found.&nbsp;<br>&nbsp;<br>If you have&nbsp;evidence to support your claim that you did not previously provide, you may submit it for consideration. If we determine that it may support your claim, we will open an appeal. Please make sure as well that the document that you\\'ll be providing is related to the claim that you have.&nbsp;<br>&nbsp;<br>Examples of documents or written communication that can help support your claim are:<br>&nbsp;<br>&nbsp;<br><ul dir=\"auto\"><li>Police reports <i>(full report is highly preferred however case numbers WITH precinct contact information is acceptable)</i></li><li>Incarceration Records <i>(full release discharge paperwork with dates of incarceration and release provided)</i></li><li>Hospitalization Records <i>(full release discharge paperwork with dates of intake and release provided)</i></li><li>Evidence of returned merchandise or Non-receipt of goods</li><li>Email communication/confirmation with merchant</li><li>Receipts</li></ul>&nbsp;<br>We look forward to your response.<br>&nbsp;<br>Best,<br>John D.<br>&nbsp;<br>&nbsp;<br></div>', 'plain_body': \"Hi Carlos,\\n&nbsp;\\nThank you for contacting us about this.\\n&nbsp;\\nWe looked into this for you and we confirmed that your recent dispute claim resulted in no error found.&nbsp;\\n&nbsp;\\nIf you have&nbsp;evidence to support your claim that you did not previously provide, you may submit it for consideration. If we determine that it may support your claim, we will open an appeal. Please make sure as well that the document that you'll be providing is related to the claim that you have.&nbsp;\\n&nbsp;\\nExamples of documents or written communication that can help support your claim are:\\n&nbsp;\\n&nbsp;\\n  Police reports (full report is highly preferred however case numbers WITH precinct contact information is acceptable)  Incarceration Records (full release discharge paperwork with dates of incarceration and release provided)  Hospitalization Records (full release discharge paperwork with dates of intake and release provided)  Evidence of returned merchandise or Non-receipt of goods  Email communication/confirmation with merchant  Receipts  &nbsp;\\nWe look forward to your response.\\n&nbsp;\\nBest,\\nJohn D.\\n&nbsp;\\n&nbsp;\", 'public': True, 'attachments': [], 'audit_id': 26453609983387}, {'id': 26453609983643, 'type': 'Change', 'value': ['claim', 'dispute_appeal', 'dispute_appeal_request', 'disputes', 'es_web_form', 'intent__software__data_lost__data_is_missing', 'intent_confidence__medium', 'mute', 'sentiment__neutral', 'sentiment_confidence__high', 'unitq-100188', 'unitq-162', 'unitq-165', 'unitq-29'], 'field_name': 'tags', 'previous_value': ['claim', 'dispute_appeal', 'dispute_appeal_request', 'disputes', 'es_web_form', 'intent__software__data_lost__data_is_missing', 'intent_confidence__medium', 'sentiment__neutral', 'sentiment_confidence__high', 'unitq-100188', 'unitq-162', 'unitq-165', 'unitq-29']}, {'id': 26453609983771, 'type': 'Change', 'value': '1', 'field_name': '1260815334710', 'previous_value': '0'}, {'id': 26453609983899, 'type': 'Change', 'value': '326', 'field_name': '360044806533', 'previous_value': '312'}, {'id': 26453609984027, 'type': 'Change', 'value': '14', 'field_name': '360044806553', 'previous_value': '312'}, {'id': 26453609984155, 'type': 'Notification', 'via': {'channel': 'rule', 'source': {'from': {'deleted': False, 'title': 'Notify requester of comment update', 'id': 67433257, 'revision_id': 12}, 'rel': 'trigger'}}, 'subject': '[{{ticket.account}}] Re: {{ticket.title}}', 'body': '{{ticket.comments_formatted}}', 'recipients': [24640724660123]}], 'via': {'channel': 'web', 'source': {'from': {}, 'to': {}, 'rel': None}}}\n",
            "{'id': 26453885841179, 'ticket_id': 11230128, 'created_at': '2024-06-10T12:03:32Z', 'author_id': 24640724660123, 'metadata': {'system': {'message_id': '<98A2B214-6D70-41A0-8DEE-00189159FC21@icloud.com>', 'client': 'iPhone Mail (21F90)', 'email_id': '01J010GCT54M75NA8GM402PTRV', 'ip_address': '17.57.155.28', 'raw_email_identifier': '853060/f4b5fde0-40b2-4c5b-b103-ace4022fcfa3.eml', 'json_email_identifier': '853060/f4b5fde0-40b2-4c5b-b103-ace4022fcfa3.json', 'eml_redacted': False, 'location': 'United States', 'latitude': 37.751, 'longitude': -97.822}, 'custom': {}, 'suspension_type_id': None}, 'events': [{'id': 26453885841307, 'type': 'Comment', 'author_id': 24640724660123, 'body': 'That’s exactly what I sent \\n\\nTwo police reports more one identifies they stole my personal information completely they broke into my house \\nVery Respectfully \\nCarlos Manuel Otero\\n\\nOn Jun 10, 2024, at 07:49, John D. (Current Support) <support@current.com> wrote:\\n\\n\\ufeff', 'html_body': '<div class=\"zd-comment\" dir=\"auto\"><p dir=\"auto\">That’s exactly what I sent </p>\\n\\n<p dir=\"auto\">Two police reports more one identifies they stole my personal information completely they broke into my house \\n<br>Very Respectfully \\n<br>Carlos Manuel Otero</p>\\n\\n<p dir=\"auto\">On Jun 10, 2024, at 07:49, John D. (Current Support) &lt;<a href=\"mailto:support@current.com\" rel=\"noreferrer\">support@current.com</a>&gt; wrote:</p>\\n\\n<p dir=\"auto\">\\ufeff</p></div>', 'plain_body': 'That’s exactly what I sent  \\n\\n Two police reports more one identifies they stole my personal information completely they broke into my house \\n\\nVery Respectfully \\n\\nCarlos Manuel Otero \\n\\n On Jun 10, 2024, at 07:49, John D. (Current Support) &lt;support@current.com&gt; wrote: \\n\\n \\ufeff', 'public': True, 'attachments': [{'url': 'https://current.zendesk.com/api/v2/attachments/26453885851291.json', 'id': 26453885851291, 'file_name': 'image1.jpeg', 'content_url': 'https://current.zendesk.com/attachments/token/hcU5181DMoqgjn0NAqnp6LPoM/?name=image1.jpeg', 'mapped_content_url': 'https://support.current.com/attachments/token/hcU5181DMoqgjn0NAqnp6LPoM/?name=image1.jpeg', 'content_type': 'image/jpeg', 'size': 2350599, 'width': None, 'height': None, 'inline': False, 'deleted': False, 'malware_access_override': False, 'malware_scan_result': 'malware_not_found', 'thumbnails': [{'url': 'https://current.zendesk.com/api/v2/attachments/26453912881691.json', 'id': 26453912881691, 'file_name': 'image1_thumb.jpeg', 'content_url': 'https://current.zendesk.com/attachments/token/llifiZ6D1hqyDdwsw7vQGGMM3/?name=image1_thumb.jpeg', 'mapped_content_url': 'https://support.current.com/attachments/token/llifiZ6D1hqyDdwsw7vQGGMM3/?name=image1_thumb.jpeg', 'content_type': 'image/jpeg', 'size': 1945, 'width': 80, 'height': 60, 'inline': False, 'deleted': False, 'malware_access_override': False, 'malware_scan_result': 'not_scanned'}]}, {'url': 'https://current.zendesk.com/api/v2/attachments/26453945402523.json', 'id': 26453945402523, 'file_name': 'image0.jpeg', 'content_url': 'https://current.zendesk.com/attachments/token/BYtFbumO8udcwl5rhqSYQeZiY/?name=image0.jpeg', 'mapped_content_url': 'https://support.current.com/attachments/token/BYtFbumO8udcwl5rhqSYQeZiY/?name=image0.jpeg', 'content_type': 'image/jpeg', 'size': 2546608, 'width': None, 'height': None, 'inline': False, 'deleted': False, 'malware_access_override': False, 'malware_scan_result': 'malware_not_found', 'thumbnails': [{'url': 'https://current.zendesk.com/api/v2/attachments/26453945638427.json', 'id': 26453945638427, 'file_name': 'image0_thumb.jpeg', 'content_url': 'https://current.zendesk.com/attachments/token/SXbPkBl4Kd4w6HkB4mOpQhUAP/?name=image0_thumb.jpeg', 'mapped_content_url': 'https://support.current.com/attachments/token/SXbPkBl4Kd4w6HkB4mOpQhUAP/?name=image0_thumb.jpeg', 'content_type': 'image/jpeg', 'size': 2361, 'width': 80, 'height': 60, 'inline': False, 'deleted': False, 'malware_access_override': False, 'malware_scan_result': 'not_scanned'}]}], 'audit_id': 26453885841179}, {'id': 26453885841435, 'type': 'Change', 'value': 'open', 'field_name': 'status', 'previous_value': 'solved'}], 'via': {'channel': 'email', 'source': {'from': {'address': 'carlos.on.matrix@icloud.com', 'name': 'Caller +1 (305) 525-5757', 'original_recipients': ['carlos.on.matrix@icloud.com', 'support@current.com']}, 'to': {'name': 'Current', 'address': None}, 'rel': None}}}\n",
            "{'id': 26453925392795, 'ticket_id': 11230128, 'created_at': '2024-06-10T12:03:33Z', 'author_id': -1, 'metadata': {'system': {}, 'custom': {}, 'parent_audit_id': '26453885841179'}, 'events': [{'id': 26453925393051, 'type': 'Change', 'previous_value': None, 'value': {'minutes': 480, 'seconds': 28800, 'in_business_hours': False}, 'field_name': 'next_reply_time', 'via': {'source': {'rel': 'sla_target_change'}, 'current_sla_policy': 'General Email'}}], 'via': {'channel': 'sla', 'source': {'from': {}, 'to': {}, 'rel': None}}}\n",
            "{'id': 26453938772507, 'ticket_id': 11230128, 'created_at': '2024-06-10T12:04:07Z', 'author_id': 24640724660123, 'metadata': {'system': {'message_id': '<37318939-48BF-4C50-BB8A-56D4C9DC0E92@icloud.com>', 'client': 'iPhone Mail (21F90)', 'email_id': '01J010HGA9H6ME3GVQMZZEA159', 'ip_address': '17.57.155.28', 'raw_email_identifier': '853060/6ed3f40c-35ad-4f87-8cfb-b01b964751cb.eml', 'json_email_identifier': '853060/6ed3f40c-35ad-4f87-8cfb-b01b964751cb.json', 'eml_redacted': False, 'location': 'United States', 'latitude': 37.751, 'longitude': -97.822}, 'custom': {}, 'suspension_type_id': None}, 'events': [{'id': 26453948000539, 'type': 'Comment', 'author_id': 24640724660123, 'body': 'I don’t even own any jewelry and doing my research that place that charged me is high on the fraud scheme list. \\n\\nIf I win a civil lawsuit against the jewelry. I want to see on discovery per attorneys the conclusion you made saying this was no error. \\n\\nVery Respectfully \\nCarlos Manuel Otero\\n\\nOn Jun 10, 2024, at 07:49, John D. (Current Support) <support@current.com> wrote:\\n\\n\\ufeff', 'html_body': '<div class=\"zd-comment\" dir=\"auto\"><p dir=\"auto\">I don’t even own any jewelry and doing my research that place that charged me is high on the fraud scheme list. </p>\\n\\n<p dir=\"auto\">If I win a civil lawsuit against the jewelry. I want to see on discovery per attorneys the conclusion you made saying this was no error. </p>\\n\\n<p dir=\"auto\">Very Respectfully \\n<br>Carlos Manuel Otero</p>\\n\\n<p dir=\"auto\">On Jun 10, 2024, at 07:49, John D. (Current Support) &lt;<a href=\"mailto:support@current.com\" rel=\"noreferrer\">support@current.com</a>&gt; wrote:</p>\\n\\n<p dir=\"auto\">\\ufeff</p></div>', 'plain_body': 'I don’t even own any jewelry and doing my research that place that charged me is high on the fraud scheme list.  \\n\\n If I win a civil lawsuit against the jewelry. I want to see on discovery per attorneys the conclusion you made saying this was no error.  \\n\\n Very Respectfully \\n\\nCarlos Manuel Otero \\n\\n On Jun 10, 2024, at 07:49, John D. (Current Support) &lt;support@current.com&gt; wrote: \\n\\n \\ufeff', 'public': True, 'attachments': [], 'audit_id': 26453938772507}], 'via': {'channel': 'email', 'source': {'from': {'address': 'carlos.on.matrix@icloud.com', 'name': 'Caller +1 (305) 525-5757', 'original_recipients': ['carlos.on.matrix@icloud.com', 'support@current.com']}, 'to': {'name': 'Current', 'address': None}, 'rel': None}}}\n",
            "{'id': 26453958212251, 'ticket_id': 11230128, 'created_at': '2024-06-10T12:05:55Z', 'author_id': 1902986750104, 'metadata': {'system': {'client': 'AHC/2.1', 'ip_address': '44.238.146.237', 'location': 'Boardman, OR, United States', 'latitude': 45.8234, 'longitude': -119.7257}, 'custom': {}}, 'events': [{'id': 26453958212379, 'type': 'Change', 'value': ['claim', 'dispute_appeal', 'dispute_appeal_request', 'disputes', 'es_web_form', 'intent__software__data_lost__data_is_missing', 'intent_confidence__medium', 'mute', 'sentiment__neutral', 'sentiment_confidence__high', 'unitq-100014', 'unitq-100188', 'unitq-162', 'unitq-163', 'unitq-165', 'unitq-273', 'unitq-29', 'unitq-343'], 'field_name': 'tags', 'previous_value': ['claim', 'dispute_appeal', 'dispute_appeal_request', 'disputes', 'es_web_form', 'intent__software__data_lost__data_is_missing', 'intent_confidence__medium', 'mute', 'sentiment__neutral', 'sentiment_confidence__high', 'unitq-100188', 'unitq-162', 'unitq-165', 'unitq-29']}, {'id': 26453958212507, 'type': 'Change', 'value': 'unitq-273 unitq-29 unitq-343', 'field_name': '14520140362907', 'previous_value': 'unitq-29'}], 'via': {'channel': 'api', 'source': {'from': {}, 'to': {}, 'rel': None}}}\n",
            "{'id': 26467517341083, 'ticket_id': 11230128, 'created_at': '2024-06-10T18:02:30Z', 'author_id': -1, 'metadata': {'system': {}, 'custom': {}}, 'events': [{'id': 26467517341211, 'type': 'Change', 'value': None, 'field_name': 'assignee_id', 'previous_value': '1264993065390'}], 'via': {'channel': 'rule', 'source': {'to': {}, 'from': {'deleted': False, 'title': '** Gen email: return to queue', 'id': 15762493575067}, 'rel': 'automation'}}}\n",
            "{'id': 26522098045083, 'ticket_id': 11230128, 'created_at': '2024-06-12T12:46:50Z', 'author_id': 1267003494309, 'metadata': {'system': {'client': 'Mozilla/5.0 (Windows NT 10.0; Win64; x64) AppleWebKit/537.36 (KHTML, like Gecko) Chrome/125.0.0.0 Safari/537.36', 'ip_address': '43.230.109.76', 'location': 'Makati City, 00, Philippines', 'latitude': 14.566, 'longitude': 121.0193}, 'custom': {}}, 'events': [{'id': 26522098045211, 'type': 'Comment', 'author_id': 1267003494309, 'body': 'Hi Carlos,\\n\\nThanks for providing documents to support your dispute appeal.\\n\\nI’ve escalated your request to our Disputes Team for further review. They’ll review the information you provided to determine if we can move forward with an appeal. You’ll receive an update on this request within 5-7 business days.\\n\\nIf we’re able to go ahead with an appeal, the investigation will be completed within 45 calendar days. This includes the time it takes for us to investigate and communicate with the merchant. You’ll be notified by email with the final result.\\n\\nBest,\\nMJ', 'html_body': '<div class=\"zd-comment\" dir=\"auto\">Hi Carlos,<br>&nbsp;<br>Thanks for providing documents to support your dispute appeal.<br>&nbsp;<br>I’ve escalated your request to our Disputes Team for further review. They’ll review the information you provided to determine if we can move forward with an appeal. You’ll receive an update on this request within 5-7 business days.<br>&nbsp;<br>If we’re able to go ahead with an appeal, the investigation will be completed within 45 calendar days. This includes the time it takes for us to investigate and communicate with the merchant. You’ll be notified by email with the final result.<br>&nbsp;<br>Best,<br>MJ<br></div>', 'plain_body': 'Hi Carlos,\\n&nbsp;\\nThanks for providing documents to support your dispute appeal.\\n&nbsp;\\nI’ve escalated your request to our Disputes Team for further review. They’ll review the information you provided to determine if we can move forward with an appeal. You’ll receive an update on this request within 5-7 business days.\\n&nbsp;\\nIf we’re able to go ahead with an appeal, the investigation will be completed within 45 calendar days. This includes the time it takes for us to investigate and communicate with the merchant. You’ll be notified by email with the final result.\\n&nbsp;\\nBest,\\nMJ', 'public': True, 'attachments': [], 'audit_id': 26522098045083}, {'id': 26522098045339, 'type': 'Change', 'value': '1260806653470', 'field_name': 'group_id', 'previous_value': '27458867'}, {'id': 26522098045467, 'type': 'Change', 'value': ['claim', 'dispute', 'dispute_appeal', 'dispute_appeal__evidence_provided__', 'dispute_appeal_esc', 'dispute_appeal_request', 'disputes', 'es_web_form', 'intent__software__data_lost__data_is_missing', 'intent_confidence__medium', 'mute', 'sentiment__neutral', 'sentiment_confidence__high', 'unitq-100014', 'unitq-100188', 'unitq-162', 'unitq-163', 'unitq-165', 'unitq-273', 'unitq-29', 'unitq-343'], 'field_name': 'tags', 'previous_value': ['claim', 'dispute_appeal', 'dispute_appeal_request', 'disputes', 'es_web_form', 'intent__software__data_lost__data_is_missing', 'intent_confidence__medium', 'mute', 'sentiment__neutral', 'sentiment_confidence__high', 'unitq-100014', 'unitq-100188', 'unitq-162', 'unitq-163', 'unitq-165', 'unitq-273', 'unitq-29', 'unitq-343']}, {'id': 26522098045595, 'type': 'Change', 'value': '352', 'field_name': '360044806533', 'previous_value': '326'}, {'id': 26522098045723, 'type': 'Change', 'value': '26', 'field_name': '360044806553', 'previous_value': '14'}, {'id': 26522098045851, 'type': 'Change', 'value': 'dispute_appeal__evidence_provided__', 'field_name': '4417296967067', 'previous_value': None}, {'id': 26522098045979, 'type': 'Notification', 'via': {'channel': 'rule', 'source': {'from': {'deleted': False, 'title': 'Notify requester of comment update', 'id': 67433257, 'revision_id': 12}, 'rel': 'trigger'}}, 'subject': '[{{ticket.account}}] Re: {{ticket.title}}', 'body': '{{ticket.comments_formatted}}', 'recipients': [24640724660123]}, {'id': 26522126482331, 'type': 'AgentMacroReference', 'via': {'channel': 'web', 'source': {'from': {}, 'to': {}, 'rel': None}}, 'macro_title': 'Escalations::Disputes::Dispute Appeal - Evidence Provided (Disputes)', 'macro_id': '1260860901130', 'macro_deleted': False}, {'id': 26522126483227, 'type': 'Change', 'value': 'Disputes SLA', 'field_name': 'sla_policy', 'previous_value': 'General Email'}], 'via': {'channel': 'web', 'source': {'from': {}, 'to': {}, 'rel': None}}}\n",
            "{'id': 26522101136795, 'ticket_id': 11230128, 'created_at': '2024-06-12T12:47:41Z', 'author_id': 1267003494309, 'metadata': {'system': {'client': 'Mozilla/5.0 (Windows NT 10.0; Win64; x64) AppleWebKit/537.36 (KHTML, like Gecko) Chrome/125.0.0.0 Safari/537.36', 'ip_address': '43.230.109.76', 'location': 'Makati City, 00, Philippines', 'latitude': 14.566, 'longitude': 121.0193}, 'custom': {}}, 'events': [{'id': 26522101136923, 'type': 'Comment', 'author_id': 1267003494309, 'body': 'CUID: FRHarhoOGsWNbZJCzElqXqCInOigWuhr\\nDID: 09db55c2-49b8-4d8f-92a1-71102eb928e9\\n\\nConcern : Dispute appeal request.\\n\\nPlease assist. Thank you.', 'html_body': '<div class=\"zd-comment\" dir=\"auto\">CUID: FRHarhoOGsWNbZJCzElqXqCInOigWuhr<br>DID: 09db55c2-49b8-4d8f-92a1-71102eb928e9<br><br>Concern : Dispute appeal request.&nbsp;<br>&nbsp;<br>Please assist. Thank you. <br></div>', 'plain_body': 'CUID: FRHarhoOGsWNbZJCzElqXqCInOigWuhr\\nDID: 09db55c2-49b8-4d8f-92a1-71102eb928e9\\n\\nConcern : Dispute appeal request.&nbsp;\\n&nbsp;\\nPlease assist. Thank you.', 'public': False, 'attachments': [{'url': 'https://current.zendesk.com/api/v2/attachments/26522115709467.json', 'id': 26522115709467, 'file_name': 'IdentityTheft.pdf', 'content_url': 'https://current.zendesk.com/attachments/token/Ovu4eqBS8gsmABvR2QxiSEyRl/?name=IdentityTheft.pdf', 'mapped_content_url': 'https://support.current.com/attachments/token/Ovu4eqBS8gsmABvR2QxiSEyRl/?name=IdentityTheft.pdf', 'content_type': 'application/pdf', 'size': 1684724, 'width': None, 'height': None, 'inline': False, 'deleted': False, 'malware_access_override': False, 'malware_scan_result': 'malware_not_found', 'thumbnails': []}], 'audit_id': 26522101136795}, {'id': 26522101137051, 'type': 'Change', 'value': 'FRHarhoOGsWNbZJCzElqXqCInOigWuhr', 'field_name': '360012410073', 'previous_value': None}, {'id': 26522101137179, 'type': 'Change', 'value': '\\u200b\\u200b\\u200b\\u200b\\u200b\\u200b\\u200b\\u200b\\u200b\\u200b\\u200b\\u200b\\u200b\\u200b\\u200b\\u200b\\u200b\\u200b\\u200b\\u200b\\u200b\\u200b\\u200b\\u200b\\u200b\\u200b\\u200b\\u200b\\u200b\\u200bCUID: FRHarhoOGsWNbZJCzElqXqCInOigWuhr\\nDID: 09db55c2-49b8-4d8f-92a1-71102eb928e9\\n\\u200b\\u200b\\n\\u200bConcern : Dispute appeal request. \\n\\nPlease assist. Thank you. \\u200b\\u200b\\u200b\\u200b\\u200b\\u200b', 'field_name': '360012410133', 'previous_value': None}, {'id': 26522101137307, 'type': 'Change', 'value': '403', 'field_name': '360044806533', 'previous_value': '352'}, {'id': 26522101137435, 'type': 'Change', 'value': '51', 'field_name': '360044806553', 'previous_value': '26'}], 'via': {'channel': 'web', 'source': {'from': {}, 'to': {}, 'rel': None}}}\n",
            "{'id': 26522150102939, 'ticket_id': 11230128, 'created_at': '2024-06-12T12:48:13Z', 'author_id': 1902986750104, 'metadata': {'system': {'client': 'AHC/2.1', 'ip_address': '35.165.237.28', 'location': 'Boardman, OR, United States', 'latitude': 45.8234, 'longitude': -119.7257}, 'custom': {}}, 'events': [{'id': 26522150103067, 'type': 'Change', 'value': ['claim', 'dispute', 'dispute_appeal', 'dispute_appeal__evidence_provided__', 'dispute_appeal_esc', 'dispute_appeal_request', 'disputes', 'es_web_form', 'intent__software__data_lost__data_is_missing', 'intent_confidence__medium', 'mute', 'sentiment__neutral', 'sentiment_confidence__high', 'unitq-100014', 'unitq-100188', 'unitq-162', 'unitq-163', 'unitq-165', 'unitq-273', 'unitq-29', 'unitq-311', 'unitq-343'], 'field_name': 'tags', 'previous_value': ['claim', 'dispute', 'dispute_appeal', 'dispute_appeal__evidence_provided__', 'dispute_appeal_esc', 'dispute_appeal_request', 'disputes', 'es_web_form', 'intent__software__data_lost__data_is_missing', 'intent_confidence__medium', 'mute', 'sentiment__neutral', 'sentiment_confidence__high', 'unitq-100014', 'unitq-100188', 'unitq-162', 'unitq-163', 'unitq-165', 'unitq-273', 'unitq-29', 'unitq-343']}, {'id': 26522150103195, 'type': 'Change', 'value': 'unitq-273 unitq-29 unitq-311 unitq-343', 'field_name': '14520140362907', 'previous_value': 'unitq-273 unitq-29 unitq-343'}], 'via': {'channel': 'api', 'source': {'from': {}, 'to': {}, 'rel': None}}}\n",
            "{'id': 26522194625435, 'ticket_id': 11230128, 'created_at': '2024-06-12T12:50:23Z', 'author_id': 1902986750104, 'metadata': {'system': {'client': 'AHC/2.1', 'ip_address': '44.234.231.68', 'location': 'Boardman, OR, United States', 'latitude': 45.8234, 'longitude': -119.7257}, 'custom': {}}, 'events': [{'id': 26522194625563, 'type': 'Change', 'value': ['claim', 'dispute', 'dispute_appeal', 'dispute_appeal__evidence_provided__', 'dispute_appeal_esc', 'dispute_appeal_request', 'disputes', 'es_web_form', 'intent__software__data_lost__data_is_missing', 'intent_confidence__medium', 'mute', 'sentiment__neutral', 'sentiment_confidence__high', 'unitq-100014', 'unitq-100188', 'unitq-162', 'unitq-163', 'unitq-165', 'unitq-273', 'unitq-29', 'unitq-31', 'unitq-311', 'unitq-343'], 'field_name': 'tags', 'previous_value': ['claim', 'dispute', 'dispute_appeal', 'dispute_appeal__evidence_provided__', 'dispute_appeal_esc', 'dispute_appeal_request', 'disputes', 'es_web_form', 'intent__software__data_lost__data_is_missing', 'intent_confidence__medium', 'mute', 'sentiment__neutral', 'sentiment_confidence__high', 'unitq-100014', 'unitq-100188', 'unitq-162', 'unitq-163', 'unitq-165', 'unitq-273', 'unitq-29', 'unitq-311', 'unitq-343']}, {'id': 26522194625691, 'type': 'Change', 'value': 'unitq-273 unitq-29 unitq-31 unitq-311 unitq-343', 'field_name': '14520140362907', 'previous_value': 'unitq-273 unitq-29 unitq-311 unitq-343'}], 'via': {'channel': 'api', 'source': {'from': {}, 'to': {}, 'rel': None}}}\n"
          ]
        }
      ]
    },
    {
      "cell_type": "code",
      "source": [
        "url = \"https://current.zendesk.com/api/v2/users/24640724660123\"\n",
        "headers = {\n",
        "\t\"Content-Type\": \"application/json\",\n",
        "}\n",
        "\n",
        "test = requests.request(\n",
        "\t\"GET\",\n",
        "\turl,\n",
        "\tauth=(username+'/token', token),\n",
        "\theaders=headers\n",
        ")\n",
        "\n",
        "print(test.text)"
      ],
      "metadata": {
        "id": "HmsS0npFI1AU",
        "colab": {
          "base_uri": "https://localhost:8080/"
        },
        "outputId": "e365b881-10e5-4842-f4f5-397c39aa14f3"
      },
      "execution_count": null,
      "outputs": [
        {
          "output_type": "stream",
          "name": "stdout",
          "text": [
            "{\"user\":{\"id\":24640724660123,\"url\":\"https://current.zendesk.com/api/v2/users/24640724660123.json\",\"name\":\"Caller +1 (305) 525-5757\",\"email\":\"carlos.on.matrix@icloud.com\",\"created_at\":\"2024-04-08T22:03:58Z\",\"updated_at\":\"2024-05-07T01:26:00Z\",\"time_zone\":\"Eastern Time (US & Canada)\",\"iana_time_zone\":\"America/New_York\",\"phone\":\"+13055255757\",\"shared_phone_number\":false,\"photo\":null,\"locale_id\":1,\"locale\":\"en-US\",\"organization_id\":null,\"role\":\"end-user\",\"verified\":true,\"external_id\":null,\"tags\":[],\"alias\":null,\"active\":true,\"shared\":false,\"shared_agent\":false,\"last_login_at\":null,\"two_factor_auth_enabled\":null,\"signature\":null,\"details\":null,\"notes\":null,\"role_type\":null,\"custom_role_id\":null,\"moderator\":false,\"ticket_restriction\":\"requested\",\"only_private_comments\":false,\"restricted_agent\":true,\"suspended\":false,\"default_group_id\":null,\"report_csv\":false,\"user_fields\":{}}}\n"
          ]
        }
      ]
    },
    {
      "cell_type": "code",
      "source": [
        "url = \"https://current.zendesk.com/api/v2/tickets/11230128\"\n",
        "headers = {\n",
        "\t\"Content-Type\": \"application/json\",\n",
        "}\n",
        "\n",
        "response = requests.request(\n",
        "\t\"GET\",\n",
        "\turl,\n",
        "\tauth=(username+'/token', token),\n",
        "\theaders=headers\n",
        ")\n",
        "\n",
        "print(response.text)"
      ],
      "metadata": {
        "colab": {
          "base_uri": "https://localhost:8080/",
          "height": 211
        },
        "id": "OX-2CU7PnNrR",
        "outputId": "4e6580d3-10cd-4f9f-983e-83505b2b9a63"
      },
      "execution_count": 1,
      "outputs": [
        {
          "output_type": "error",
          "ename": "NameError",
          "evalue": "name 'requests' is not defined",
          "traceback": [
            "\u001b[0;31m---------------------------------------------------------------------------\u001b[0m",
            "\u001b[0;31mNameError\u001b[0m                                 Traceback (most recent call last)",
            "\u001b[0;32m<ipython-input-1-0541a835277b>\u001b[0m in \u001b[0;36m<cell line: 6>\u001b[0;34m()\u001b[0m\n\u001b[1;32m      4\u001b[0m }\n\u001b[1;32m      5\u001b[0m \u001b[0;34m\u001b[0m\u001b[0m\n\u001b[0;32m----> 6\u001b[0;31m response = requests.request(\n\u001b[0m\u001b[1;32m      7\u001b[0m         \u001b[0;34m\"GET\"\u001b[0m\u001b[0;34m,\u001b[0m\u001b[0;34m\u001b[0m\u001b[0;34m\u001b[0m\u001b[0m\n\u001b[1;32m      8\u001b[0m         \u001b[0murl\u001b[0m\u001b[0;34m,\u001b[0m\u001b[0;34m\u001b[0m\u001b[0;34m\u001b[0m\u001b[0m\n",
            "\u001b[0;31mNameError\u001b[0m: name 'requests' is not defined"
          ]
        }
      ]
    },
    {
      "cell_type": "code",
      "source": [],
      "metadata": {
        "id": "XgcaikVdnNo3"
      },
      "execution_count": null,
      "outputs": []
    },
    {
      "cell_type": "code",
      "source": [],
      "metadata": {
        "id": "eYyLqT2MiBzB"
      },
      "execution_count": null,
      "outputs": []
    },
    {
      "cell_type": "code",
      "source": [
        "class zendesk:\n",
        "  def __init__(self):\n",
        "    print(\"V1\")\n",
        "\n",
        "    self.base_get_request = \"https://current.zendesk.com/api/v2/\"\n",
        "    self.username = 'ryan.wong@current.com'\n",
        "    self.token = 'KDBftsLgOjyCB7vefyfq4X0i6M5lWKC9FnUwmrYy'\n",
        "\n",
        "  def get_ticket_details(self):\n",
        "    return\n",
        "\n",
        "  def get_messages(self):\n",
        "    return\n",
        "\n",
        "  def get_users(self):\n",
        "    return"
      ],
      "metadata": {
        "id": "5cEdVafriBwo"
      },
      "execution_count": null,
      "outputs": []
    },
    {
      "cell_type": "code",
      "source": [],
      "metadata": {
        "id": "URogL6_5ftT_"
      },
      "execution_count": null,
      "outputs": []
    },
    {
      "cell_type": "code",
      "source": [
        "def extract_transcript(transcript_json):\n",
        "  transcript = pd.DataFrame(columns=['author_id','message','attachment','created_at'])\n",
        "  for msg in transcript_json:\n",
        "    if msg['author_id'] != -1 and msg['events'][0]['type'] == 'Comment':\n",
        "      attachment_urls = []\n",
        "      for attachment in msg['events'][0]['attachments']:\n",
        "        attachment_urls.append(attachment['content_url'])\n",
        "      transcript = pd.concat([transcript, pd.DataFrame.from_dict({\n",
        "          'author_id':[msg['author_id']],\n",
        "          'message': [msg['events'][0]['html_body'].replace('&nbsp;','').replace('\\ufeff','').replace('\\n','')],\n",
        "          'attachment': [attachment_urls],\n",
        "          'created_at': [msg['created_at']]\n",
        "      })])\n",
        "\n",
        "  return transcript.reset_index(drop=True)"
      ],
      "metadata": {
        "id": "4l_6mbKcafGh",
        "colab": {
          "base_uri": "https://localhost:8080/",
          "height": 17
        },
        "outputId": "0b4dcc66-899e-45cc-da1e-55aba3c8d84d"
      },
      "execution_count": 7,
      "outputs": [
        {
          "output_type": "display_data",
          "data": {
            "text/plain": [
              "<IPython.core.display.Javascript object>"
            ],
            "application/javascript": [
              "google.colab.output.setIframeHeight(0, true, {maxHeight: 500})"
            ]
          },
          "metadata": {}
        }
      ]
    },
    {
      "cell_type": "code",
      "source": [
        "df = extract_transcript(audit['audits'])\n",
        "df"
      ],
      "metadata": {
        "colab": {
          "base_uri": "https://localhost:8080/",
          "height": 269
        },
        "id": "-cjHxM1dcMXR",
        "outputId": "4036074e-4975-42f1-94b0-088b6d1dd804"
      },
      "execution_count": 19,
      "outputs": [
        {
          "output_type": "display_data",
          "data": {
            "text/plain": [
              "<IPython.core.display.Javascript object>"
            ],
            "application/javascript": [
              "google.colab.output.setIframeHeight(0, true, {maxHeight: 500})"
            ]
          },
          "metadata": {}
        },
        {
          "output_type": "execute_result",
          "data": {
            "text/plain": [
              "        author_id                                            message  \\\n",
              "0  24640724660123  <div class=\"zd-comment\" dir=\"auto\">I gathered ...   \n",
              "1   1264993065390  <div class=\"zd-comment\" dir=\"auto\">Hi Caller,<...   \n",
              "2   1264993065390  <div class=\"zd-comment\" dir=\"auto\">Hi Carlos,<...   \n",
              "3  24640724660123  <div class=\"zd-comment\" dir=\"auto\"><p dir=\"aut...   \n",
              "4  24640724660123  <div class=\"zd-comment\" dir=\"auto\"><p dir=\"aut...   \n",
              "5   1267003494309  <div class=\"zd-comment\" dir=\"auto\">Hi Carlos,<...   \n",
              "6   1267003494309  <div class=\"zd-comment\" dir=\"auto\">CUID: FRHar...   \n",
              "\n",
              "                                          attachment            created_at  \n",
              "0  [https://current.zendesk.com/attachments/token...  2024-06-09T22:30:54Z  \n",
              "1                                                 []  2024-06-10T11:49:21Z  \n",
              "2                                                 []  2024-06-10T11:49:40Z  \n",
              "3  [https://current.zendesk.com/attachments/token...  2024-06-10T12:03:32Z  \n",
              "4                                                 []  2024-06-10T12:04:07Z  \n",
              "5                                                 []  2024-06-12T12:46:50Z  \n",
              "6  [https://current.zendesk.com/attachments/token...  2024-06-12T12:47:41Z  "
            ],
            "text/html": [
              "\n",
              "  <div id=\"df-e455a524-5e31-4c25-a5bf-5390aa5be5d9\" class=\"colab-df-container\">\n",
              "    <div>\n",
              "<style scoped>\n",
              "    .dataframe tbody tr th:only-of-type {\n",
              "        vertical-align: middle;\n",
              "    }\n",
              "\n",
              "    .dataframe tbody tr th {\n",
              "        vertical-align: top;\n",
              "    }\n",
              "\n",
              "    .dataframe thead th {\n",
              "        text-align: right;\n",
              "    }\n",
              "</style>\n",
              "<table border=\"1\" class=\"dataframe\">\n",
              "  <thead>\n",
              "    <tr style=\"text-align: right;\">\n",
              "      <th></th>\n",
              "      <th>author_id</th>\n",
              "      <th>message</th>\n",
              "      <th>attachment</th>\n",
              "      <th>created_at</th>\n",
              "    </tr>\n",
              "  </thead>\n",
              "  <tbody>\n",
              "    <tr>\n",
              "      <th>0</th>\n",
              "      <td>24640724660123</td>\n",
              "      <td>&lt;div class=\"zd-comment\" dir=\"auto\"&gt;I gathered ...</td>\n",
              "      <td>[https://current.zendesk.com/attachments/token...</td>\n",
              "      <td>2024-06-09T22:30:54Z</td>\n",
              "    </tr>\n",
              "    <tr>\n",
              "      <th>1</th>\n",
              "      <td>1264993065390</td>\n",
              "      <td>&lt;div class=\"zd-comment\" dir=\"auto\"&gt;Hi Caller,&lt;...</td>\n",
              "      <td>[]</td>\n",
              "      <td>2024-06-10T11:49:21Z</td>\n",
              "    </tr>\n",
              "    <tr>\n",
              "      <th>2</th>\n",
              "      <td>1264993065390</td>\n",
              "      <td>&lt;div class=\"zd-comment\" dir=\"auto\"&gt;Hi Carlos,&lt;...</td>\n",
              "      <td>[]</td>\n",
              "      <td>2024-06-10T11:49:40Z</td>\n",
              "    </tr>\n",
              "    <tr>\n",
              "      <th>3</th>\n",
              "      <td>24640724660123</td>\n",
              "      <td>&lt;div class=\"zd-comment\" dir=\"auto\"&gt;&lt;p dir=\"aut...</td>\n",
              "      <td>[https://current.zendesk.com/attachments/token...</td>\n",
              "      <td>2024-06-10T12:03:32Z</td>\n",
              "    </tr>\n",
              "    <tr>\n",
              "      <th>4</th>\n",
              "      <td>24640724660123</td>\n",
              "      <td>&lt;div class=\"zd-comment\" dir=\"auto\"&gt;&lt;p dir=\"aut...</td>\n",
              "      <td>[]</td>\n",
              "      <td>2024-06-10T12:04:07Z</td>\n",
              "    </tr>\n",
              "    <tr>\n",
              "      <th>5</th>\n",
              "      <td>1267003494309</td>\n",
              "      <td>&lt;div class=\"zd-comment\" dir=\"auto\"&gt;Hi Carlos,&lt;...</td>\n",
              "      <td>[]</td>\n",
              "      <td>2024-06-12T12:46:50Z</td>\n",
              "    </tr>\n",
              "    <tr>\n",
              "      <th>6</th>\n",
              "      <td>1267003494309</td>\n",
              "      <td>&lt;div class=\"zd-comment\" dir=\"auto\"&gt;CUID: FRHar...</td>\n",
              "      <td>[https://current.zendesk.com/attachments/token...</td>\n",
              "      <td>2024-06-12T12:47:41Z</td>\n",
              "    </tr>\n",
              "  </tbody>\n",
              "</table>\n",
              "</div>\n",
              "    <div class=\"colab-df-buttons\">\n",
              "\n",
              "  <div class=\"colab-df-container\">\n",
              "    <button class=\"colab-df-convert\" onclick=\"convertToInteractive('df-e455a524-5e31-4c25-a5bf-5390aa5be5d9')\"\n",
              "            title=\"Convert this dataframe to an interactive table.\"\n",
              "            style=\"display:none;\">\n",
              "\n",
              "  <svg xmlns=\"http://www.w3.org/2000/svg\" height=\"24px\" viewBox=\"0 -960 960 960\">\n",
              "    <path d=\"M120-120v-720h720v720H120Zm60-500h600v-160H180v160Zm220 220h160v-160H400v160Zm0 220h160v-160H400v160ZM180-400h160v-160H180v160Zm440 0h160v-160H620v160ZM180-180h160v-160H180v160Zm440 0h160v-160H620v160Z\"/>\n",
              "  </svg>\n",
              "    </button>\n",
              "\n",
              "  <style>\n",
              "    .colab-df-container {\n",
              "      display:flex;\n",
              "      gap: 12px;\n",
              "    }\n",
              "\n",
              "    .colab-df-convert {\n",
              "      background-color: #E8F0FE;\n",
              "      border: none;\n",
              "      border-radius: 50%;\n",
              "      cursor: pointer;\n",
              "      display: none;\n",
              "      fill: #1967D2;\n",
              "      height: 32px;\n",
              "      padding: 0 0 0 0;\n",
              "      width: 32px;\n",
              "    }\n",
              "\n",
              "    .colab-df-convert:hover {\n",
              "      background-color: #E2EBFA;\n",
              "      box-shadow: 0px 1px 2px rgba(60, 64, 67, 0.3), 0px 1px 3px 1px rgba(60, 64, 67, 0.15);\n",
              "      fill: #174EA6;\n",
              "    }\n",
              "\n",
              "    .colab-df-buttons div {\n",
              "      margin-bottom: 4px;\n",
              "    }\n",
              "\n",
              "    [theme=dark] .colab-df-convert {\n",
              "      background-color: #3B4455;\n",
              "      fill: #D2E3FC;\n",
              "    }\n",
              "\n",
              "    [theme=dark] .colab-df-convert:hover {\n",
              "      background-color: #434B5C;\n",
              "      box-shadow: 0px 1px 3px 1px rgba(0, 0, 0, 0.15);\n",
              "      filter: drop-shadow(0px 1px 2px rgba(0, 0, 0, 0.3));\n",
              "      fill: #FFFFFF;\n",
              "    }\n",
              "  </style>\n",
              "\n",
              "    <script>\n",
              "      const buttonEl =\n",
              "        document.querySelector('#df-e455a524-5e31-4c25-a5bf-5390aa5be5d9 button.colab-df-convert');\n",
              "      buttonEl.style.display =\n",
              "        google.colab.kernel.accessAllowed ? 'block' : 'none';\n",
              "\n",
              "      async function convertToInteractive(key) {\n",
              "        const element = document.querySelector('#df-e455a524-5e31-4c25-a5bf-5390aa5be5d9');\n",
              "        const dataTable =\n",
              "          await google.colab.kernel.invokeFunction('convertToInteractive',\n",
              "                                                    [key], {});\n",
              "        if (!dataTable) return;\n",
              "\n",
              "        const docLinkHtml = 'Like what you see? Visit the ' +\n",
              "          '<a target=\"_blank\" href=https://colab.research.google.com/notebooks/data_table.ipynb>data table notebook</a>'\n",
              "          + ' to learn more about interactive tables.';\n",
              "        element.innerHTML = '';\n",
              "        dataTable['output_type'] = 'display_data';\n",
              "        await google.colab.output.renderOutput(dataTable, element);\n",
              "        const docLink = document.createElement('div');\n",
              "        docLink.innerHTML = docLinkHtml;\n",
              "        element.appendChild(docLink);\n",
              "      }\n",
              "    </script>\n",
              "  </div>\n",
              "\n",
              "\n",
              "<div id=\"df-362f2ffe-0692-474d-9466-f772ba986b79\">\n",
              "  <button class=\"colab-df-quickchart\" onclick=\"quickchart('df-362f2ffe-0692-474d-9466-f772ba986b79')\"\n",
              "            title=\"Suggest charts\"\n",
              "            style=\"display:none;\">\n",
              "\n",
              "<svg xmlns=\"http://www.w3.org/2000/svg\" height=\"24px\"viewBox=\"0 0 24 24\"\n",
              "     width=\"24px\">\n",
              "    <g>\n",
              "        <path d=\"M19 3H5c-1.1 0-2 .9-2 2v14c0 1.1.9 2 2 2h14c1.1 0 2-.9 2-2V5c0-1.1-.9-2-2-2zM9 17H7v-7h2v7zm4 0h-2V7h2v10zm4 0h-2v-4h2v4z\"/>\n",
              "    </g>\n",
              "</svg>\n",
              "  </button>\n",
              "\n",
              "<style>\n",
              "  .colab-df-quickchart {\n",
              "      --bg-color: #E8F0FE;\n",
              "      --fill-color: #1967D2;\n",
              "      --hover-bg-color: #E2EBFA;\n",
              "      --hover-fill-color: #174EA6;\n",
              "      --disabled-fill-color: #AAA;\n",
              "      --disabled-bg-color: #DDD;\n",
              "  }\n",
              "\n",
              "  [theme=dark] .colab-df-quickchart {\n",
              "      --bg-color: #3B4455;\n",
              "      --fill-color: #D2E3FC;\n",
              "      --hover-bg-color: #434B5C;\n",
              "      --hover-fill-color: #FFFFFF;\n",
              "      --disabled-bg-color: #3B4455;\n",
              "      --disabled-fill-color: #666;\n",
              "  }\n",
              "\n",
              "  .colab-df-quickchart {\n",
              "    background-color: var(--bg-color);\n",
              "    border: none;\n",
              "    border-radius: 50%;\n",
              "    cursor: pointer;\n",
              "    display: none;\n",
              "    fill: var(--fill-color);\n",
              "    height: 32px;\n",
              "    padding: 0;\n",
              "    width: 32px;\n",
              "  }\n",
              "\n",
              "  .colab-df-quickchart:hover {\n",
              "    background-color: var(--hover-bg-color);\n",
              "    box-shadow: 0 1px 2px rgba(60, 64, 67, 0.3), 0 1px 3px 1px rgba(60, 64, 67, 0.15);\n",
              "    fill: var(--button-hover-fill-color);\n",
              "  }\n",
              "\n",
              "  .colab-df-quickchart-complete:disabled,\n",
              "  .colab-df-quickchart-complete:disabled:hover {\n",
              "    background-color: var(--disabled-bg-color);\n",
              "    fill: var(--disabled-fill-color);\n",
              "    box-shadow: none;\n",
              "  }\n",
              "\n",
              "  .colab-df-spinner {\n",
              "    border: 2px solid var(--fill-color);\n",
              "    border-color: transparent;\n",
              "    border-bottom-color: var(--fill-color);\n",
              "    animation:\n",
              "      spin 1s steps(1) infinite;\n",
              "  }\n",
              "\n",
              "  @keyframes spin {\n",
              "    0% {\n",
              "      border-color: transparent;\n",
              "      border-bottom-color: var(--fill-color);\n",
              "      border-left-color: var(--fill-color);\n",
              "    }\n",
              "    20% {\n",
              "      border-color: transparent;\n",
              "      border-left-color: var(--fill-color);\n",
              "      border-top-color: var(--fill-color);\n",
              "    }\n",
              "    30% {\n",
              "      border-color: transparent;\n",
              "      border-left-color: var(--fill-color);\n",
              "      border-top-color: var(--fill-color);\n",
              "      border-right-color: var(--fill-color);\n",
              "    }\n",
              "    40% {\n",
              "      border-color: transparent;\n",
              "      border-right-color: var(--fill-color);\n",
              "      border-top-color: var(--fill-color);\n",
              "    }\n",
              "    60% {\n",
              "      border-color: transparent;\n",
              "      border-right-color: var(--fill-color);\n",
              "    }\n",
              "    80% {\n",
              "      border-color: transparent;\n",
              "      border-right-color: var(--fill-color);\n",
              "      border-bottom-color: var(--fill-color);\n",
              "    }\n",
              "    90% {\n",
              "      border-color: transparent;\n",
              "      border-bottom-color: var(--fill-color);\n",
              "    }\n",
              "  }\n",
              "</style>\n",
              "\n",
              "  <script>\n",
              "    async function quickchart(key) {\n",
              "      const quickchartButtonEl =\n",
              "        document.querySelector('#' + key + ' button');\n",
              "      quickchartButtonEl.disabled = true;  // To prevent multiple clicks.\n",
              "      quickchartButtonEl.classList.add('colab-df-spinner');\n",
              "      try {\n",
              "        const charts = await google.colab.kernel.invokeFunction(\n",
              "            'suggestCharts', [key], {});\n",
              "      } catch (error) {\n",
              "        console.error('Error during call to suggestCharts:', error);\n",
              "      }\n",
              "      quickchartButtonEl.classList.remove('colab-df-spinner');\n",
              "      quickchartButtonEl.classList.add('colab-df-quickchart-complete');\n",
              "    }\n",
              "    (() => {\n",
              "      let quickchartButtonEl =\n",
              "        document.querySelector('#df-362f2ffe-0692-474d-9466-f772ba986b79 button');\n",
              "      quickchartButtonEl.style.display =\n",
              "        google.colab.kernel.accessAllowed ? 'block' : 'none';\n",
              "    })();\n",
              "  </script>\n",
              "</div>\n",
              "\n",
              "  <div id=\"id_5877a0f8-ab77-46f7-aea3-3b0939f27ff1\">\n",
              "    <style>\n",
              "      .colab-df-generate {\n",
              "        background-color: #E8F0FE;\n",
              "        border: none;\n",
              "        border-radius: 50%;\n",
              "        cursor: pointer;\n",
              "        display: none;\n",
              "        fill: #1967D2;\n",
              "        height: 32px;\n",
              "        padding: 0 0 0 0;\n",
              "        width: 32px;\n",
              "      }\n",
              "\n",
              "      .colab-df-generate:hover {\n",
              "        background-color: #E2EBFA;\n",
              "        box-shadow: 0px 1px 2px rgba(60, 64, 67, 0.3), 0px 1px 3px 1px rgba(60, 64, 67, 0.15);\n",
              "        fill: #174EA6;\n",
              "      }\n",
              "\n",
              "      [theme=dark] .colab-df-generate {\n",
              "        background-color: #3B4455;\n",
              "        fill: #D2E3FC;\n",
              "      }\n",
              "\n",
              "      [theme=dark] .colab-df-generate:hover {\n",
              "        background-color: #434B5C;\n",
              "        box-shadow: 0px 1px 3px 1px rgba(0, 0, 0, 0.15);\n",
              "        filter: drop-shadow(0px 1px 2px rgba(0, 0, 0, 0.3));\n",
              "        fill: #FFFFFF;\n",
              "      }\n",
              "    </style>\n",
              "    <button class=\"colab-df-generate\" onclick=\"generateWithVariable('df')\"\n",
              "            title=\"Generate code using this dataframe.\"\n",
              "            style=\"display:none;\">\n",
              "\n",
              "  <svg xmlns=\"http://www.w3.org/2000/svg\" height=\"24px\"viewBox=\"0 0 24 24\"\n",
              "       width=\"24px\">\n",
              "    <path d=\"M7,19H8.4L18.45,9,17,7.55,7,17.6ZM5,21V16.75L18.45,3.32a2,2,0,0,1,2.83,0l1.4,1.43a1.91,1.91,0,0,1,.58,1.4,1.91,1.91,0,0,1-.58,1.4L9.25,21ZM18.45,9,17,7.55Zm-12,3A5.31,5.31,0,0,0,4.9,8.1,5.31,5.31,0,0,0,1,6.5,5.31,5.31,0,0,0,4.9,4.9,5.31,5.31,0,0,0,6.5,1,5.31,5.31,0,0,0,8.1,4.9,5.31,5.31,0,0,0,12,6.5,5.46,5.46,0,0,0,6.5,12Z\"/>\n",
              "  </svg>\n",
              "    </button>\n",
              "    <script>\n",
              "      (() => {\n",
              "      const buttonEl =\n",
              "        document.querySelector('#id_5877a0f8-ab77-46f7-aea3-3b0939f27ff1 button.colab-df-generate');\n",
              "      buttonEl.style.display =\n",
              "        google.colab.kernel.accessAllowed ? 'block' : 'none';\n",
              "\n",
              "      buttonEl.onclick = () => {\n",
              "        google.colab.notebook.generateWithVariable('df');\n",
              "      }\n",
              "      })();\n",
              "    </script>\n",
              "  </div>\n",
              "\n",
              "    </div>\n",
              "  </div>\n"
            ],
            "application/vnd.google.colaboratory.intrinsic+json": {
              "type": "dataframe",
              "variable_name": "df",
              "summary": "{\n  \"name\": \"df\",\n  \"rows\": 7,\n  \"fields\": [\n    {\n      \"column\": \"author_id\",\n      \"properties\": {\n        \"dtype\": \"date\",\n        \"min\": 1264993065390,\n        \"max\": 24640724660123,\n        \"num_unique_values\": 3,\n        \"samples\": [\n          24640724660123,\n          1264993065390,\n          1267003494309\n        ],\n        \"semantic_type\": \"\",\n        \"description\": \"\"\n      }\n    },\n    {\n      \"column\": \"message\",\n      \"properties\": {\n        \"dtype\": \"string\",\n        \"num_unique_values\": 7,\n        \"samples\": [\n          \"<div class=\\\"zd-comment\\\" dir=\\\"auto\\\">I gathered police report from my previous and only dispute which by current I lost it.</div>\",\n          \"<div class=\\\"zd-comment\\\" dir=\\\"auto\\\">Hi Caller,<br><br>Thank you for contacting us about this.<br><br>We looked into this for you and we confirmed that your recent dispute claim resulted in no error found.<br><br>If you haveevidence to support your claim that you did not previously provide, you may submit it for consideration. If we determine that it may support your claim, we will open an appeal. Please make sure as well that the document that you'll be providing is related to the claim that you have.<br><br>Examples of documents or written communication that can help support your claim are:<br><br><ul dir=\\\"auto\\\"><li>Police reports <i>(full report is highly preferred however case numbers WITH precinct contact information is acceptable)</i></li><li>Incarceration Records <i>(full release discharge paperwork with dates of incarceration and release provided)</i></li><li>Hospitalization Records <i>(full release discharge paperwork with dates of intake and release provided)</i></li><li>Evidence of returned merchandise or Non-receipt of goods</li><li>Email communication/confirmation with merchant</li><li>Receipts</li></ul><br>We look forward to your response.<br><br>Best,<br>John D.<br></div>\",\n          \"<div class=\\\"zd-comment\\\" dir=\\\"auto\\\">Hi Carlos,<br><br>Thanks for providing documents to support your dispute appeal.<br><br>I\\u2019ve escalated your request to our Disputes Team for further review. They\\u2019ll review the information you provided to determine if we can move forward with an appeal. You\\u2019ll receive an update on this request within 5-7 business days.<br><br>If we\\u2019re able to go ahead with an appeal, the investigation will be completed within 45 calendar days. This includes the time it takes for us to investigate and communicate with the merchant. You\\u2019ll be notified by email with the final result.<br><br>Best,<br>MJ<br></div>\"\n        ],\n        \"semantic_type\": \"\",\n        \"description\": \"\"\n      }\n    },\n    {\n      \"column\": \"attachment\",\n      \"properties\": {\n        \"dtype\": \"object\",\n        \"semantic_type\": \"\",\n        \"description\": \"\"\n      }\n    },\n    {\n      \"column\": \"created_at\",\n      \"properties\": {\n        \"dtype\": \"object\",\n        \"num_unique_values\": 7,\n        \"samples\": [\n          \"2024-06-09T22:30:54Z\",\n          \"2024-06-10T11:49:21Z\",\n          \"2024-06-12T12:46:50Z\"\n        ],\n        \"semantic_type\": \"\",\n        \"description\": \"\"\n      }\n    }\n  ]\n}"
            }
          },
          "metadata": {},
          "execution_count": 19
        }
      ]
    },
    {
      "cell_type": "code",
      "source": [
        "!pip install reportlab\n",
        "from reportlab.lib.pagesizes import letter\n",
        "from reportlab.lib.styles import getSampleStyleSheet, ParagraphStyle\n",
        "from reportlab.platypus import SimpleDocTemplate, Paragraph, Spacer, ListFlowable, ListItem\n",
        "from reportlab.graphics.shapes import Drawing, Line\n",
        "from reportlab.lib.units import inch\n",
        "from bs4 import BeautifulSoup, NavigableString, Tag\n",
        "from reportlab.pdfbase.ttfonts import TTFont\n",
        "from reportlab.pdfbase import pdfmetrics\n",
        "\n",
        "class generate_ticket_transcript_pdf:\n",
        "  def __init__(self, chat_details, messages, pdf_path):\n",
        "    self.messages = messages # pandas dataframe, each row is a message\n",
        "    self.doc = SimpleDocTemplate(pdf_path, pagesize=letter)\n",
        "    self.styles = getSampleStyleSheet()\n",
        "    self.pdf_elements = [] # elements to build pdf\n",
        "\n",
        "    self.custom_style = ParagraphStyle(\n",
        "        'Custom',\n",
        "        parent=self.styles['Normal'],\n",
        "        fontSize=12,\n",
        "        leading=14,\n",
        "        spaceAfter=12,\n",
        "        spaceBefore=12,\n",
        "    )\n",
        "\n",
        "    pdfmetrics.registerFont(TTFont('Helvetica-Oblique', basedir+'fonts/Helvetica-Oblique.ttf'))\n",
        "\n",
        "  def create_dotted_line(self, width, dash_length=1, space_length=1):\n",
        "    drawing = Drawing(width, 1)\n",
        "    line = Line(0, 0, width, 0)\n",
        "    line.strokeDashArray = [dash_length, space_length]\n",
        "    drawing.add(line)\n",
        "    return drawing\n",
        "\n",
        "  # Handle html tags\n",
        "  def process_tag(self, tag, parent_style):\n",
        "        if isinstance(tag, NavigableString):\n",
        "            self.pdf_elements.append(Paragraph(str(tag), parent_style))\n",
        "        elif isinstance(tag, Tag):\n",
        "            if tag.name == 'p':\n",
        "                content = ''\n",
        "                for child in tag.children:\n",
        "                    if isinstance(child, NavigableString):\n",
        "                        content += str(child)\n",
        "                    elif child.name == 'br':\n",
        "                        content += '<br />'\n",
        "                    else:\n",
        "                        content += str(child)\n",
        "                self.pdf_elements.append(Paragraph(content, self.custom_style))\n",
        "            elif tag.name == 'h1':\n",
        "                h1_style = ParagraphStyle(\n",
        "                    'Heading1',\n",
        "                    parent=self.styles['Heading1'],\n",
        "                    fontSize=24,\n",
        "                    spaceAfter=18,\n",
        "                    spaceBefore=12,\n",
        "                )\n",
        "                self.pdf_elements.append(Paragraph(tag.text, h1_style))\n",
        "            elif tag.name == 'h2':\n",
        "                h2_style = ParagraphStyle(\n",
        "                    'Heading2',\n",
        "                    parent=self.styles['Heading2'],\n",
        "                    fontSize=18,\n",
        "                    spaceAfter=12,\n",
        "                    spaceBefore=8,\n",
        "                )\n",
        "                self.pdf_elements.append(Paragraph(tag.text, h2_style))\n",
        "            elif tag.name == 'i':  # Handle italicized text\n",
        "              italicized_style = ParagraphStyle(\n",
        "                  'Italicized',\n",
        "                  fontSize=12,\n",
        "                  spaceAfter=12,\n",
        "                  spaceBefore=12,\n",
        "                  fontName = 'Helvetica-Oblique'\n",
        "              )\n",
        "              self.pdf_elements.append(Paragraph(tag.text, italicized_style))\n",
        "            elif tag.name == 'b':  # Handle bold text\n",
        "              bold_style = ParagraphStyle(\n",
        "                  'Bold',\n",
        "                  fontSize=12,\n",
        "                  spaceAfter=12,\n",
        "                  spaceBefore=12,\n",
        "                  fontName = 'Helvetica-Bold'\n",
        "              )\n",
        "              self.pdf_elements.append(Paragraph(tag.text, bold_style))\n",
        "            elif tag.name == 'ul':\n",
        "                list_items = []\n",
        "                for child in tag.children:\n",
        "                    if child.name == 'li':\n",
        "                        list_items.append(ListItem(Paragraph(child.text, self.custom_style)))\n",
        "                ul = ListFlowable(list_items, bulletType='bullet', start='circle')\n",
        "                self.pdf_elements.append(ul)\n",
        "            else:\n",
        "                for child in tag.children:\n",
        "                    self.process_tag(child, parent_style)\n",
        "\n",
        "\n",
        "  def read_messages(self):\n",
        "    for index, row in self.messages.iterrows():\n",
        "\n",
        "      # Author name\n",
        "      self.pdf_elements.append(Paragraph(\n",
        "        str(row['author_id']),\n",
        "        ParagraphStyle(\n",
        "          'Bold',\n",
        "          fontSize=12,\n",
        "          spaceAfter=12,\n",
        "          spaceBefore=12,\n",
        "          fontName = 'Helvetica-Bold'\n",
        "        )\n",
        "      ))\n",
        "\n",
        "      # Message timestamp\n",
        "      self.pdf_elements.append(Paragraph(\n",
        "        row['created_at'],\n",
        "        ParagraphStyle(\n",
        "          'Italicize',\n",
        "          fontSize=12,\n",
        "          spaceAfter=12,\n",
        "          spaceBefore=12,\n",
        "          fontName = 'Helvetica-Oblique'\n",
        "        )\n",
        "      ))\n",
        "\n",
        "      # Message Body\n",
        "      soup = BeautifulSoup(row['message'], 'html.parser')\n",
        "      for div in soup.find_all('div'): # remove div tags\n",
        "        div.unwrap()\n",
        "      for a in soup.find_all('a'): # remove a tags\n",
        "        a.unwrap()\n",
        "      for tag in soup:\n",
        "        self.process_tag(tag, self.custom_style)\n",
        "\n",
        "      # Dotted line\n",
        "      self.pdf_elements.append(Spacer(1, 0.2 * inch))  # Add some space before the line\n",
        "      self.pdf_elements.append(self.create_dotted_line(self.doc.width, 0))\n",
        "      self.pdf_elements.append(Spacer(1, 0.2 * inch))  # Add some space after the line\n",
        "\n",
        "    self.doc.build(self.pdf_elements)\n",
        ""
      ],
      "metadata": {
        "colab": {
          "base_uri": "https://localhost:8080/",
          "height": 139
        },
        "id": "p1D8HryrI_y5",
        "outputId": "71e57b01-603e-409a-c93d-8d53ee3177e7"
      },
      "execution_count": 20,
      "outputs": [
        {
          "output_type": "display_data",
          "data": {
            "text/plain": [
              "<IPython.core.display.Javascript object>"
            ],
            "application/javascript": [
              "google.colab.output.setIframeHeight(0, true, {maxHeight: 500})"
            ]
          },
          "metadata": {}
        },
        {
          "output_type": "stream",
          "name": "stdout",
          "text": [
            "Collecting reportlab\n",
            "  Downloading reportlab-4.2.0-py3-none-any.whl (1.9 MB)\n",
            "\u001b[2K     \u001b[90m━━━━━━━━━━━━━━━━━━━━━━━━━━━━━━━━━━━━━━━━\u001b[0m \u001b[32m1.9/1.9 MB\u001b[0m \u001b[31m17.2 MB/s\u001b[0m eta \u001b[36m0:00:00\u001b[0m\n",
            "\u001b[?25hRequirement already satisfied: pillow>=9.0.0 in /usr/local/lib/python3.10/dist-packages (from reportlab) (9.4.0)\n",
            "Requirement already satisfied: chardet in /usr/local/lib/python3.10/dist-packages (from reportlab) (5.2.0)\n",
            "Installing collected packages: reportlab\n",
            "Successfully installed reportlab-4.2.0\n"
          ]
        }
      ]
    },
    {
      "cell_type": "code",
      "source": [
        "cmon = generate_ticket_transcript_pdf(df, wkdir+\"cmon.pdf\")"
      ],
      "metadata": {
        "colab": {
          "base_uri": "https://localhost:8080/",
          "height": 17
        },
        "id": "Dbac8r31MAsu",
        "outputId": "f0c80ac2-629c-457e-d070-608d17bd5def"
      },
      "execution_count": 21,
      "outputs": [
        {
          "output_type": "display_data",
          "data": {
            "text/plain": [
              "<IPython.core.display.Javascript object>"
            ],
            "application/javascript": [
              "google.colab.output.setIframeHeight(0, true, {maxHeight: 500})"
            ]
          },
          "metadata": {}
        }
      ]
    },
    {
      "cell_type": "code",
      "source": [
        "cmon.read_messages()"
      ],
      "metadata": {
        "colab": {
          "base_uri": "https://localhost:8080/",
          "height": 17
        },
        "id": "5XjKANr0ORzv",
        "outputId": "905aedf6-ec30-4a60-e7ba-6ad1a27ec87c"
      },
      "execution_count": 22,
      "outputs": [
        {
          "output_type": "display_data",
          "data": {
            "text/plain": [
              "<IPython.core.display.Javascript object>"
            ],
            "application/javascript": [
              "google.colab.output.setIframeHeight(0, true, {maxHeight: 500})"
            ]
          },
          "metadata": {}
        }
      ]
    },
    {
      "cell_type": "code",
      "source": [],
      "metadata": {
        "id": "X7TwWDO8ORxU"
      },
      "execution_count": null,
      "outputs": []
    },
    {
      "cell_type": "code",
      "source": [
        "# html_strings = [\n",
        "#   \"\"\"\n",
        "#   <div class=\"zd-comment\" dir=\"auto\"><p>Hi Caller,<br><br>Thank you for contacting us about this.<br><br>We looked into this for you and we confirmed that your recent dispute claim resulted in no error found.<br><br>If you haveevidence to support your claim that you did not previously provide, you may submit it for consideration. If we determine that it may support your claim, we will open an appeal. Please make sure as well that the document that you'll be providing is related to the claim that you have.<br><br>Examples of documents or written communication that can help support your claim are:<br><br></p><ul dir=\"auto\"><li>Police reports <i>(full report is highly preferred however case numbers WITH precinct contact information is acceptable)</i></li><li>Incarceration Records <i>(full release discharge paperwork with dates of incarceration and release provided)</i></li><li>Hospitalization Records <i>(full release discharge paperwork with dates of intake and release provided)</i></li><li>Evidence of returned merchandise or Non-receipt of goods</li><li>Email communication/confirmation with merchant</li><li>Receipts</li></ul><br><p>We look forward to your response.<br><br>Best,<br>John D.<br></p></div>\n",
        "#   \"\"\"\n",
        "# ]\n",
        "\n",
        "html_strings = all_text\n",
        "\n",
        "# html_strings = ['''\n",
        "# <div class=\"zd-comment\" dir=\"auto\"><p dir=\"auto\">That’s exactly what I sent </p><p dir=\"auto\">Two police reports more one identifies they stole my personal information completely they broke into my house <br>Very Respectfully <br>Carlos Manuel Otero</p><p dir=\"auto\">On Jun 10, 2024, at 07:49, John D. (Current Support)  wrote:</p><p dir=\"auto\"></p></div>\n",
        "# ''']\n",
        "\n",
        "pdf_path = wkdir+\"ambitious.pdf\"\n",
        "convert_html_to_pdf(html_strings, pdf_path)"
      ],
      "metadata": {
        "id": "W5G167kYrDRM"
      },
      "execution_count": 222,
      "outputs": []
    },
    {
      "cell_type": "code",
      "source": [],
      "metadata": {
        "id": "PUBfFHjrmkSo"
      },
      "execution_count": null,
      "outputs": []
    },
    {
      "cell_type": "code",
      "source": [
        "url = \"https://current.zendesk.com/api/v2/users/show_many?ids=24640724660123%2c1902986750104\"\n",
        "headers = {\n",
        "\t\"Content-Type\": \"application/json\",\n",
        "}\n",
        "\n",
        "test2 = requests.request(\n",
        "\t\"GET\",\n",
        "\turl,\n",
        "\tauth=(username+'/token', token),\n",
        "\theaders=headers\n",
        ")\n",
        "\n",
        "print(test2.text)\n",
        "\n"
      ],
      "metadata": {
        "colab": {
          "base_uri": "https://localhost:8080/"
        },
        "id": "iutYbRAlcMSp",
        "outputId": "6210b41a-f8b8-441a-8037-d33d53317909"
      },
      "execution_count": null,
      "outputs": [
        {
          "output_type": "stream",
          "name": "stdout",
          "text": [
            "{\"users\":[{\"id\":1902986750104,\"url\":\"https://current.zendesk.com/api/v2/users/1902986750104.json\",\"name\":\"unitq\",\"email\":\"success@unitq.co\",\"created_at\":\"2022-01-10T15:06:05Z\",\"updated_at\":\"2024-05-13T16:38:34Z\",\"time_zone\":\"Eastern Time (US & Canada)\",\"iana_time_zone\":\"America/New_York\",\"phone\":null,\"shared_phone_number\":null,\"photo\":null,\"locale_id\":1,\"locale\":\"en-US\",\"organization_id\":null,\"role\":\"admin\",\"verified\":true,\"external_id\":null,\"tags\":[],\"alias\":\"\",\"active\":true,\"shared\":false,\"shared_agent\":false,\"last_login_at\":\"2024-05-13T16:38:34Z\",\"two_factor_auth_enabled\":null,\"signature\":\"\",\"details\":\"\",\"notes\":\"\",\"role_type\":4,\"custom_role_id\":1260804773290,\"moderator\":true,\"ticket_restriction\":null,\"only_private_comments\":false,\"restricted_agent\":false,\"suspended\":false,\"default_group_id\":27458867,\"report_csv\":false,\"user_fields\":{}},{\"id\":24640724660123,\"url\":\"https://current.zendesk.com/api/v2/users/24640724660123.json\",\"name\":\"Caller +1 (305) 525-5757\",\"email\":\"carlos.on.matrix@icloud.com\",\"created_at\":\"2024-04-08T22:03:58Z\",\"updated_at\":\"2024-05-07T01:26:00Z\",\"time_zone\":\"Eastern Time (US & Canada)\",\"iana_time_zone\":\"America/New_York\",\"phone\":\"+13055255757\",\"shared_phone_number\":false,\"photo\":null,\"locale_id\":1,\"locale\":\"en-US\",\"organization_id\":null,\"role\":\"end-user\",\"verified\":true,\"external_id\":null,\"tags\":[],\"alias\":null,\"active\":true,\"shared\":false,\"shared_agent\":false,\"last_login_at\":null,\"two_factor_auth_enabled\":null,\"signature\":null,\"details\":null,\"notes\":null,\"role_type\":null,\"custom_role_id\":null,\"moderator\":false,\"ticket_restriction\":\"requested\",\"only_private_comments\":false,\"restricted_agent\":true,\"suspended\":false,\"default_group_id\":null,\"report_csv\":false,\"user_fields\":{}}],\"next_page\":null,\"previous_page\":null,\"count\":2}\n"
          ]
        }
      ]
    },
    {
      "cell_type": "code",
      "source": [],
      "metadata": {
        "id": "NldAvELreJkp"
      },
      "execution_count": null,
      "outputs": []
    },
    {
      "cell_type": "code",
      "source": [],
      "metadata": {
        "id": "7V69xCu5gTGk"
      },
      "execution_count": null,
      "outputs": []
    },
    {
      "cell_type": "markdown",
      "source": [
        "name,email,phone\n",
        "%2C"
      ],
      "metadata": {
        "id": "UVuJ8meDlJ4s"
      }
    },
    {
      "cell_type": "code",
      "source": [],
      "metadata": {
        "id": "p5o-cVyllLzZ"
      },
      "execution_count": null,
      "outputs": []
    }
  ]
}