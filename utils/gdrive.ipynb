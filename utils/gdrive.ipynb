{
  "nbformat": 4,
  "nbformat_minor": 0,
  "metadata": {
    "colab": {
      "provenance": [],
      "authorship_tag": "ABX9TyNksj3lda3g76ZT3OSibxUa",
      "include_colab_link": true
    },
    "kernelspec": {
      "name": "python3",
      "display_name": "Python 3"
    },
    "language_info": {
      "name": "python"
    }
  },
  "cells": [
    {
      "cell_type": "markdown",
      "metadata": {
        "id": "view-in-github",
        "colab_type": "text"
      },
      "source": [
        "<a href=\"https://colab.research.google.com/github/rwong-current/colab/blob/main/utils/gdrive.ipynb\" target=\"_parent\"><img src=\"https://colab.research.google.com/assets/colab-badge.svg\" alt=\"Open In Colab\"/></a>"
      ]
    },
    {
      "cell_type": "code",
      "source": [
        "# Install required libraries\n",
        "!pip install --upgrade google-api-python-client google-auth-httplib2 google-auth-oauthlib\n",
        "\n",
        "# Authenticate the user\n",
        "from google.colab import auth\n",
        "auth.authenticate_user()\n",
        "\n",
        "# Import necessary libraries\n",
        "from googleapiclient.discovery import build\n",
        "from googleapiclient.errors import HttpError\n",
        "import google.auth\n",
        "\n",
        "# Create the Drive API service\n",
        "class drive:\n",
        "  def __init__(self):\n",
        "    creds, _ = google.auth.default()\n",
        "    self.service = build('drive', 'v3', credentials=creds)\n",
        "\n",
        "  def get_folder_id(self, folder_name, parent_folder_id=None):\n",
        "      \"\"\"Get the folder ID of an existing folder, or create it if it doesn't exist.\"\"\"\n",
        "      query = f\"name = '{folder_name}' and mimeType = 'application/vnd.google-apps.folder' and trashed = false\"\n",
        "      if parent_folder_id:\n",
        "          query += f\" and '{parent_folder_id}' in parents\"\n",
        "\n",
        "      results = self.service.files().list(q=query, spaces='drive', fields='files(id, name)').execute()\n",
        "      items = results.get('files', [])\n",
        "\n",
        "      if items:\n",
        "          # Folder exists\n",
        "          return items[0]['id']\n",
        "      else:\n",
        "          # Folder does not exist, create it\n",
        "          file_metadata = {\n",
        "              'name': folder_name,\n",
        "              'mimeType': 'application/vnd.google-apps.folder'\n",
        "          }\n",
        "          if parent_folder_id:\n",
        "              file_metadata['parents'] = [parent_folder_id]\n",
        "\n",
        "          try:\n",
        "              folder = self.service.files().create(body=file_metadata, fields='id').execute()\n",
        "              return folder.get('id')\n",
        "          except HttpError as error:\n",
        "              print(f\"An error occurred: {error}\")\n",
        "              return None\n",
        "\n",
        "  def create_folder_path(self, path):\n",
        "      \"\"\"Create a folder path in Google Drive.\"\"\"\n",
        "      folder_names = path.strip('/').split('/')\n",
        "      parent_folder_id = None\n",
        "\n",
        "      for folder_name in folder_names:\n",
        "          folder_id = self.get_folder_id(folder_name, parent_folder_id)\n",
        "          if folder_id:\n",
        "              parent_folder_id = folder_id\n",
        "          else:\n",
        "              print(f\"Failed to create or find folder: {folder_name}\")\n",
        "              return None\n",
        "\n",
        "      if parent_folder_id:\n",
        "          print(f\"Folder path '{path}' created with final folder ID: {parent_folder_id}\")\n",
        "      else:\n",
        "          print(f\"Failed to create folder path '{path}'\")\n",
        "\n",
        "      return parent_folder_id\n"
      ],
      "metadata": {
        "colab": {
          "base_uri": "https://localhost:8080/"
        },
        "id": "fJPurH5HOcmL",
        "outputId": "866e4ce5-5704-497c-dce4-905fc3e2ef24"
      },
      "execution_count": 7,
      "outputs": [
        {
          "output_type": "stream",
          "name": "stdout",
          "text": [
            "Folder path 'Colab Notebooks/test_folder' created with final folder ID: 146DAKrf9d_aqKsz-fWGgTFDhamfL0lPa\n"
          ]
        }
      ]
    },
    {
      "cell_type": "code",
      "source": [],
      "metadata": {
        "id": "a3JuS_j8OckF"
      },
      "execution_count": null,
      "outputs": []
    }
  ]
}